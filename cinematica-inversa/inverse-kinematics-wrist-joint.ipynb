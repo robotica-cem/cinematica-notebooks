{
 "cells": [
  {
   "cell_type": "markdown",
   "id": "bd862e35",
   "metadata": {},
   "source": [
    "# Inverse kinematics of a wrist joint"
   ]
  },
  {
   "cell_type": "code",
   "execution_count": 6,
   "id": "1e0cf598",
   "metadata": {},
   "outputs": [],
   "source": [
    "import numpy as np\n",
    "import doctest"
   ]
  },
  {
   "cell_type": "markdown",
   "id": "12134627",
   "metadata": {},
   "source": [
    "## Orienting the wrist joint\n",
    "\n",
    "Many manipulator-type robots have a wrist joint of two or three degrees of freedom\n",
    "<img src=\"https://d3i71xaburhd42.cloudfront.net/2757cbd3cb66d5326e20ffece70071f2f4174f50/5-Figure2-1.png\" width=512/>\n",
    "\n",
    "Note that the axes of rotation intersect in one point. This is called the wrist center."
   ]
  },
  {
   "cell_type": "markdown",
   "id": "f2e6f11d",
   "metadata": {},
   "source": [
    "The inverse kinematics procedure can then first find the joint angles of the joints from base via the first links of the arm to the wrist so that the wrist center is at the desired position, and then the orientation of the tool/end effector is obtained by the three wrist joints. \n",
    "\n",
    "The underarm link is assumed to be fixed, and has reference frame $\\{x_0, y_0, z_0\\}$\n",
    "with origin in the wrist center. The tool frame is aligned with the hand frame $\\{x_2, y_2, z_2\\}$ and in the default configuration (all joint angles equal to zero) this frame coincides with the reference frame of the underarm $\\{x_0, y_0, z_0\\}$.\n",
    "\n",
    "The first degree of freedom is the wrist rotation about $z_0$. The second degree of \n",
    "freedom is the wrist pitch given by the rotation about $z_1$, which in the reference configuration coincides with $y_0$. The final degree of freedom is a rotation about $z_2$. In the default configuration $z_2$ is aligned with $z_0$.\n",
    "\n",
    "In this exercise, we focus on determining the joint angles of the wrist degrees of freedom."
   ]
  },
  {
   "cell_type": "code",
   "execution_count": 11,
   "id": "95f42b8c",
   "metadata": {},
   "outputs": [],
   "source": [
    "def fk_wrist(th):\n",
    "    '''\n",
    "    The explanation of the kinematics refer to the image above. \n",
    "    \n",
    "    Argument\n",
    "    --------\n",
    "    th : array-like (3,)\n",
    "       The three joint angles of the wrist\n",
    "    \n",
    "    Returns\n",
    "    -------\n",
    "    R : ndarray (3x3)\n",
    "       The rotation matrix\n",
    "       \n",
    "    Tests\n",
    "    -----\n",
    "    \n",
    "    1) \n",
    "    Identity matrix\n",
    "    >>> R = fk_wrist([0,0,0])\n",
    "    >>> np.allclose(R, np.eye(3))\n",
    "    True\n",
    "    \n",
    "    2)\n",
    "    Composition correct\n",
    "    >>> R1 = fk_wrist([1,1,1])\n",
    "    >>> R2 = fk_wrist([0,0,-1])\n",
    "    >>> R3 = fk_wrist([1,1, 0])\n",
    "    >>> np.allclose(np.dot(R1,R2), R3)\n",
    "    True\n",
    "    '''\n",
    "\n",
    "    def rodrigues(w, th):\n",
    "        what = np.array([[0,-w[2], w[1]], \n",
    "                     [w[2], 0, -w[0]],\n",
    "                    [-w[1], w[0], 0]], dtype=np.float64)\n",
    "        return (np.eye(3) + np.sin(th)*what + (1-np.cos(th))*np.dot(what, what))    \n",
    "    \n",
    "    Rz1 = rodrigues([0,0,1], th[0])\n",
    "    Ry = rodrigues([0,1,0], th[1])\n",
    "    Rz2 = rodrigues([0,0,1], th[2])\n",
    "    \n",
    "    return np.dot(Rz1, np.dot(Ry, Rz2))    "
   ]
  },
  {
   "cell_type": "code",
   "execution_count": 12,
   "id": "78d7609c",
   "metadata": {},
   "outputs": [],
   "source": [
    "doctest.run_docstring_examples(fk_wrist, globals())"
   ]
  },
  {
   "cell_type": "code",
   "execution_count": null,
   "id": "1047a22c",
   "metadata": {},
   "outputs": [],
   "source": []
  },
  {
   "cell_type": "code",
   "execution_count": 32,
   "id": "58d1c9e2",
   "metadata": {},
   "outputs": [],
   "source": [
    "def ik_wrist(R):\n",
    "    '''\n",
    "    Solves the inverse kinematics problem for a spherical wrist joint. \n",
    "    The explanation of the kinematics refer to the image above. \n",
    "    The underarm link is assumed to be fixed, and has reference frame $\\{x_0, y_0, z_0\\}$\n",
    "    with origin in the wrist center.\n",
    "    The tool frame is aligned with the hand frame $\\{x_2, y_2, z_2\\}$ and in the default \n",
    "    configuration (all joint angles equal to zero) this frame coincides with the reference\n",
    "    frame of the underarm $\\{x_0, y_0, z_0\\}$.\n",
    "    The first degree of freedom is the wrist rotation about $z_0$. The second degree of \n",
    "    freedom is the wrist pitch given by the rotation about $z_1$, and the final \n",
    "    degree of freedom is a rotation about $z_2$. In the default configuration $z_1$ is aligned \n",
    "    with $x_0$.\n",
    "        \n",
    "    Arguments\n",
    "    ---------\n",
    "    R : numpy array (3x3)\n",
    "       The desired rotation matrix that describes the orientation of the tool frame\n",
    "       with respect to the underarm reference frame. It is the rotation matrix that when\n",
    "       operating on vectors given in the tool-frame gives the orientation of these\n",
    "       vectors in the underarm frame.\n",
    "       \n",
    "    Returns\n",
    "    -------\n",
    "    (q_1, q_2, q_3) : tuple of floats\n",
    "       The three joint angles in radians.\n",
    "       \n",
    "    Tests\n",
    "    -----\n",
    "    \n",
    "    1) \n",
    "    An identity matrix\n",
    "    >>> R = np.eye(3)\n",
    "    >>> q1, q2, q3 = ik_wrist(R)\n",
    "    >>> \"(%0.2f, %0.2f, %0.2f)\" %(np.abs(q1), np.abs(q2), np.abs(q3))\n",
    "    '(0.00, 0.00, 0.00)'\n",
    "    \n",
    "    2) \n",
    "    Making use of the forward kinematic, test 4 random orientations.\n",
    "    >>> for i in range(4):\n",
    "    ...    qs = np.pi/2*np.random.rand(3)\n",
    "    ...    R = fk_wrist(qs)\n",
    "    ...    q1, q2, q3 = ik_wrist(R)\n",
    "    ...    np.allclose(qs, np.array([q1, q2, q3])) \n",
    "    ...    np.allclose(R, fk_wrist([q1, q2, q3]))\n",
    "    ...\n",
    "    True\n",
    "    True\n",
    "    True\n",
    "    True\n",
    "    True\n",
    "    True\n",
    "    True\n",
    "    True\n",
    "    '''\n",
    "    \n",
    "    # Using the result from the symbolic calculations below\n",
    "    return (th1, th2, th3)"
   ]
  },
  {
   "cell_type": "code",
   "execution_count": 33,
   "id": "9c9754f2",
   "metadata": {},
   "outputs": [],
   "source": [
    "doctest.run_docstring_examples(ik_wrist, globals())"
   ]
  },
  {
   "cell_type": "markdown",
   "id": "8328ed3e",
   "metadata": {},
   "source": [
    "## Symbolic description for rotation matrix of the wrist"
   ]
  },
  {
   "cell_type": "code",
   "execution_count": null,
   "id": "e007f160",
   "metadata": {},
   "outputs": [],
   "source": [
    "!pip install python-spatialmath"
   ]
  },
  {
   "cell_type": "code",
   "execution_count": 21,
   "id": "d2a7d388",
   "metadata": {},
   "outputs": [],
   "source": [
    "import spatialmath as sm\n",
    "import sympy as sy\n",
    "sy.init_printing()"
   ]
  },
  {
   "cell_type": "code",
   "execution_count": 23,
   "id": "9a89b9bb",
   "metadata": {},
   "outputs": [
    {
     "data": {
      "image/png": "[encoded data removed]",
      "text/latex": [
       "$\\displaystyle \\left[\\begin{matrix}- \\sin{\\left(th_{1} \\right)} \\sin{\\left(th_{3} \\right)} + \\cos{\\left(th_{1} \\right)} \\cos{\\left(th_{2} \\right)} \\cos{\\left(th_{3} \\right)} & - \\sin{\\left(th_{1} \\right)} \\cos{\\left(th_{3} \\right)} - \\sin{\\left(th_{3} \\right)} \\cos{\\left(th_{1} \\right)} \\cos{\\left(th_{2} \\right)} & \\sin{\\left(th_{2} \\right)} \\cos{\\left(th_{1} \\right)}\\\\\\sin{\\left(th_{1} \\right)} \\cos{\\left(th_{2} \\right)} \\cos{\\left(th_{3} \\right)} + \\sin{\\left(th_{3} \\right)} \\cos{\\left(th_{1} \\right)} & - \\sin{\\left(th_{1} \\right)} \\sin{\\left(th_{3} \\right)} \\cos{\\left(th_{2} \\right)} + \\cos{\\left(th_{1} \\right)} \\cos{\\left(th_{3} \\right)} & \\sin{\\left(th_{1} \\right)} \\sin{\\left(th_{2} \\right)}\\\\- \\sin{\\left(th_{2} \\right)} \\cos{\\left(th_{3} \\right)} & \\sin{\\left(th_{2} \\right)} \\sin{\\left(th_{3} \\right)} & \\cos{\\left(th_{2} \\right)}\\end{matrix}\\right]$"
      ],
      "text/plain": [
       "⎡-sin(th₁)⋅sin(th₃) + cos(th₁)⋅cos(th₂)⋅cos(th₃)  -sin(th₁)⋅cos(th₃) - sin(th₃\n",
       "⎢                                                                             \n",
       "⎢sin(th₁)⋅cos(th₂)⋅cos(th₃) + sin(th₃)⋅cos(th₁)   -sin(th₁)⋅sin(th₃)⋅cos(th₂) \n",
       "⎢                                                                             \n",
       "⎣              -sin(th₂)⋅cos(th₃)                                sin(th₂)⋅sin(\n",
       "\n",
       ")⋅cos(th₁)⋅cos(th₂)  sin(th₂)⋅cos(th₁)⎤\n",
       "                                      ⎥\n",
       "+ cos(th₁)⋅cos(th₃)  sin(th₁)⋅sin(th₂)⎥\n",
       "                                      ⎥\n",
       "th₃)                     cos(th₂)     ⎦"
      ]
     },
     "execution_count": 23,
     "metadata": {},
     "output_type": "execute_result"
    }
   ],
   "source": [
    "th1, th2, th3 = sy.symbols('th1, th2, th3')\n",
    "\n",
    "Rzs = sm.SO3.Rz(th1)\n",
    "Rys = sm.SO3.Ry(th2)\n",
    "Rxs = sm.SO3.Rz(th3)\n",
    "R = Rzs*Rys*Rxs\n",
    "sy.Matrix(R.A)"
   ]
  }
 ],
 "metadata": {
  "kernelspec": {
   "display_name": "Python 3 (ipykernel)",
   "language": "python",
   "name": "python3"
  },
  "language_info": {
   "codemirror_mode": {
    "name": "ipython",
    "version": 3
   },
   "file_extension": ".py",
   "mimetype": "text/x-python",
   "name": "python",
   "nbconvert_exporter": "python",
   "pygments_lexer": "ipython3",
   "version": "3.8.11"
  }
 },
 "nbformat": 4,
 "nbformat_minor": 5
}
