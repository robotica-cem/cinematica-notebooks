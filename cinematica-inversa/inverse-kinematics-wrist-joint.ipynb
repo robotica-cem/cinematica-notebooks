{
 "cells": [
  {
   "cell_type": "markdown",
   "id": "bd862e35",
   "metadata": {},
   "source": [
    "# Inverse kinematics of a wrist joint"
   ]
  },
  {
   "cell_type": "code",
   "execution_count": 2,
   "id": "53fa1e1d",
   "metadata": {},
   "outputs": [
    {
     "name": "stdout",
     "output_type": "stream",
     "text": [
      "Collecting spatialmath-python\n",
      "  Downloading spatialmath-python-0.11.tar.gz (162 kB)\n",
      "     |████████████████████████████████| 162 kB 1.0 MB/s            \n",
      "\u001b[?25h  Preparing metadata (setup.py) ... \u001b[?25ldone\n",
      "\u001b[?25hRequirement already satisfied: numpy in /home/kjartan/.pyenv/versions/3.8.11/envs/tug/lib/python3.8/site-packages (from spatialmath-python) (1.21.1)\n",
      "Requirement already satisfied: scipy in /home/kjartan/.pyenv/versions/3.8.11/envs/tug/lib/python3.8/site-packages (from spatialmath-python) (1.7.1)\n",
      "Requirement already satisfied: matplotlib in /home/kjartan/.pyenv/versions/3.8.11/envs/tug/lib/python3.8/site-packages (from spatialmath-python) (3.4.2)\n",
      "Collecting colored\n",
      "  Downloading colored-1.4.3.tar.gz (29 kB)\n",
      "  Preparing metadata (setup.py) ... \u001b[?25ldone\n",
      "\u001b[?25hCollecting ansitable\n",
      "  Downloading ansitable-0.9.6.tar.gz (17 kB)\n",
      "  Preparing metadata (setup.py) ... \u001b[?25ldone\n",
      "\u001b[?25hCollecting sphinxcontrib-jsmath\n",
      "  Downloading sphinxcontrib_jsmath-1.0.1-py2.py3-none-any.whl (5.1 kB)\n",
      "Requirement already satisfied: kiwisolver>=1.0.1 in /home/kjartan/.pyenv/versions/3.8.11/envs/tug/lib/python3.8/site-packages (from matplotlib->spatialmath-python) (1.3.1)\n",
      "Requirement already satisfied: pyparsing>=2.2.1 in /home/kjartan/.pyenv/versions/3.8.11/envs/tug/lib/python3.8/site-packages (from matplotlib->spatialmath-python) (2.4.7)\n",
      "Requirement already satisfied: cycler>=0.10 in /home/kjartan/.pyenv/versions/3.8.11/envs/tug/lib/python3.8/site-packages (from matplotlib->spatialmath-python) (0.10.0)\n",
      "Requirement already satisfied: pillow>=6.2.0 in /home/kjartan/.pyenv/versions/3.8.11/envs/tug/lib/python3.8/site-packages (from matplotlib->spatialmath-python) (8.3.1)\n",
      "Requirement already satisfied: python-dateutil>=2.7 in /home/kjartan/.pyenv/versions/3.8.11/envs/tug/lib/python3.8/site-packages (from matplotlib->spatialmath-python) (2.8.2)\n",
      "Requirement already satisfied: six in /home/kjartan/.pyenv/versions/3.8.11/envs/tug/lib/python3.8/site-packages (from cycler>=0.10->matplotlib->spatialmath-python) (1.16.0)\n",
      "Using legacy 'setup.py install' for spatialmath-python, since package 'wheel' is not installed.\n",
      "Using legacy 'setup.py install' for ansitable, since package 'wheel' is not installed.\n",
      "Using legacy 'setup.py install' for colored, since package 'wheel' is not installed.\n",
      "Installing collected packages: colored, sphinxcontrib-jsmath, ansitable, spatialmath-python\n",
      "    Running setup.py install for colored ... \u001b[?25ldone\n",
      "\u001b[?25h    Running setup.py install for ansitable ... \u001b[?25ldone\n",
      "\u001b[?25h    Running setup.py install for spatialmath-python ... \u001b[?25ldone\n",
      "\u001b[?25hSuccessfully installed ansitable-0.9.6 colored-1.4.3 spatialmath-python-0.11 sphinxcontrib-jsmath-1.0.1\n",
      "\u001b[33mWARNING: You are using pip version 21.3.1; however, version 22.0.3 is available.\n",
      "You should consider upgrading via the '/home/kjartan/.pyenv/versions/3.8.11/envs/tug/bin/python3.8 -m pip install --upgrade pip' command.\u001b[0m\n"
     ]
    }
   ],
   "source": [
    "# Install spatial math toolbox\n",
    "!pip install spatialmath-python"
   ]
  },
  {
   "cell_type": "code",
   "execution_count": 2,
   "id": "1e0cf598",
   "metadata": {},
   "outputs": [],
   "source": [
    "import numpy as np\n",
    "import doctest\n",
    "import spatialmath as sm\n",
    "import matplotlib.pyplot as plt\n",
    "%matplotlib notebook "
   ]
  },
  {
   "cell_type": "markdown",
   "id": "f2e6f11d",
   "metadata": {},
   "source": [
    "## Orienting the wrist joint\n",
    "\n",
    "Many manipulator-type robots have a wrist joint of two or three degrees of freedom\n",
    "<img src=\"https://d3i71xaburhd42.cloudfront.net/2757cbd3cb66d5326e20ffece70071f2f4174f50/5-Figure2-1.png\" width=512/>\n",
    "\n",
    "Note that the axes of rotation intersect in one point. This is called the wrist center.\n",
    "\n",
    "The inverse kinematics procedure can then first find the joint angles of the joints from base via the first links of the arm to the wrist so that the wrist center is at the desired position, and then the orientation of the tool/end effector is obtained by the three wrist joints. \n",
    "\n",
    "In this exercise, we focus on determining the joint angles of the wrist degrees of freedom."
   ]
  },
  {
   "cell_type": "code",
   "execution_count": 49,
   "id": "95f42b8c",
   "metadata": {},
   "outputs": [],
   "source": [
    "def fk_wrist(th):\n",
    "    '''\n",
    "    The explanation of the kinematics refer to the image above. \n",
    "    The underarm link is assumed to be fixed, and has reference frame $\\{x_0, y_0, z_0\\}$\n",
    "    with origin in the wrist center.\n",
    "    The tool frame is aligned with the hand frame $\\{x_2, y_2, z_2\\}$ and in the default \n",
    "    configuration (all joint angles equal to zero) this frame coincides with the reference\n",
    "    frame of the underarm $\\{x_0, y_0, z_0\\}$.\n",
    "    The first degree of freedom is the wrist rotation about $z_0$. The second degree of \n",
    "    freedom is the wrist pitch given by the rotation about $z_1$, and the final \n",
    "    degree of freedom is a rotation about $z_2$. In the default configuration $z_1$ is aligned \n",
    "    with $x_0$.\n",
    "\n",
    "    Argument\n",
    "    --------\n",
    "    th : array-like (3,)\n",
    "       The three joint angles of the wrist\n",
    "    \n",
    "    Returns\n",
    "    -------\n",
    "    R : SO3 object\n",
    "       The rotation matrix\n",
    "       \n",
    "    Tests\n",
    "    -----\n",
    "    \n",
    "    1) \n",
    "    Identity matrix\n",
    "    >>> R = fk_wrist([0,0,0])\n",
    "    >>> np.allclose(R.R, np.eye(3))\n",
    "    True\n",
    "    \n",
    "    2)\n",
    "    Composition correct\n",
    "    >>> R1 = fk_wrist([1,1,1])\n",
    "    >>> R2 = fk_wrist([0,0,-1])\n",
    "    >>> R3 = fk_wrist([1,1, 0])\n",
    "    >>> np.allclose((R1*R2).R, R3.R)\n",
    "    True\n",
    "    '''\n",
    "\n",
    "    \n",
    "    w1 = np.array([0,0,1])*th[0]\n",
    "    w2 = np.array([0,1,0])*th[1]\n",
    "    w3 = np.array([1,0,0])*th[2]\n",
    "    \n",
    "    return sm.SO3.Exp(w1)*sm.SO3.Exp(w2)*sm.SO3.Exp(w3)\n",
    "    \n",
    "    # Alternatively\n",
    "    #return sm.SO3.Rz(th[0])*sm.SO3.Ry(th[1])*sm.SO3.Rx(th[2]) "
   ]
  },
  {
   "cell_type": "code",
   "execution_count": 50,
   "id": "78d7609c",
   "metadata": {},
   "outputs": [],
   "source": [
    "doctest.run_docstring_examples(fk_wrist, globals())"
   ]
  },
  {
   "cell_type": "code",
   "execution_count": null,
   "id": "1047a22c",
   "metadata": {},
   "outputs": [],
   "source": []
  },
  {
   "cell_type": "code",
   "execution_count": 64,
   "id": "58d1c9e2",
   "metadata": {},
   "outputs": [],
   "source": [
    "def ik_wrist(R):\n",
    "    '''\n",
    "    Solves the inverse kinematics problem for a spherical wrist joint. \n",
    "    The explanation of the kinematics refer to the image above. \n",
    "    The underarm link is assumed to be fixed, and has reference frame $\\{x_0, y_0, z_0\\}$\n",
    "    with origin in the wrist center.\n",
    "    The tool frame is aligned with the hand frame $\\{x_2, y_2, z_2\\}$ and in the default \n",
    "    configuration (all joint angles equal to zero) this frame coincides with the reference\n",
    "    frame of the underarm $\\{x_0, y_0, z_0\\}$.\n",
    "    The first degree of freedom is the wrist rotation about $z_0$. The second degree of \n",
    "    freedom is the wrist pitch given by the rotation about $z_1$, and the final \n",
    "    degree of freedom is a rotation about $z_2$. In the default configuration $z_1$ is aligned \n",
    "    with $x_0$.\n",
    "        \n",
    "    Arguments\n",
    "    ---------\n",
    "    R : numpy array (3x3)\n",
    "       The desired rotation matrix that describes the orientation of the tool frame\n",
    "       with respect to the underarm reference frame. It is the rotation matrix that when\n",
    "       operating on vectors given in the tool-frame gives the orientation of these\n",
    "       vectors in the underarm frame.\n",
    "       \n",
    "    Returns\n",
    "    -------\n",
    "    (q_1, q_2, q_3) : tuple of floats\n",
    "       The three joint angles in radians.\n",
    "       \n",
    "    Tests\n",
    "    -----\n",
    "    \n",
    "    1) \n",
    "    An identity matrix\n",
    "    >>> R = sm.SO3(np.eye(3))\n",
    "    >>> q1, q2, q3 = ik_wrist(R)\n",
    "    >>> \"(%0.2f, %0.2f, %0.2f)\" %(q1, q2, q3)\n",
    "    '(0.00, 0.00, 0.00)'\n",
    "    \n",
    "    2) \n",
    "    Making use of the forward kinematic, test 4 random orientations.\n",
    "    >>> for i in range(4):\n",
    "    ...    qs = np.pi/2*np.random.rand(3)\n",
    "    ...    print(qs)\n",
    "    ...    R = fk_wrist(qs)\n",
    "    ...    q1, q2, q3 = ik_wrist(R)\n",
    "    ...    print(q1, q2, q3)\n",
    "    ...    np.allclose(qs, np.array([q1, q2, q3]))\n",
    "    ...    np.allclose(R.R, (fk_wrist([q1, q2, q3])).R)\n",
    "    ...\n",
    "    True\n",
    "    True\n",
    "    True\n",
    "    True\n",
    "    '''\n",
    "    \n",
    "    # Use the result from the symbolic calculations below\n",
    "    th1 = 0\n",
    "    th2 = 0\n",
    "    th3 = 0\n",
    "    return (th1, th2, th3)"
   ]
  },
  {
   "cell_type": "code",
   "execution_count": 65,
   "id": "9c9754f2",
   "metadata": {},
   "outputs": [
    {
     "name": "stdout",
     "output_type": "stream",
     "text": [
      "**********************************************************************\n",
      "File \"__main__\", line 35, in NoName\n",
      "Failed example:\n",
      "    \"(%0.2f, %0.2f, %0.2f)\" %(q1, q2, q3)\n",
      "Expected:\n",
      "    '(0.00, 0.00, 0.00)'\n",
      "Got:\n",
      "    '(0.00, -0.00, 0.00)'\n",
      "**********************************************************************\n",
      "File \"__main__\", line 40, in NoName\n",
      "Failed example:\n",
      "    for i in range(4):\n",
      "       qs = np.pi/2*np.random.rand(3)\n",
      "       print(qs)\n",
      "       R = fk_wrist(qs)\n",
      "       q1, q2, q3 = ik_wrist(R)\n",
      "       print(q1, q2, q3)\n",
      "       np.allclose(qs, np.array([q1, q2, q3]))\n",
      "       np.allclose(R.R, (fk_wrist([q1, q2, q3])).R)\n",
      "Expected:\n",
      "    True\n",
      "    True\n",
      "    True\n",
      "    True\n",
      "Got:\n",
      "    [1.35283158 0.93798129 1.41289766]\n",
      "    1.352831577739493 0.9379812895729447 1.4128976568267793\n",
      "    True\n",
      "    True\n",
      "    [1.01229507 0.6471713  0.17522153]\n",
      "    1.0122950652719822 0.64717129703832 0.17522153439425403\n",
      "    True\n",
      "    True\n",
      "    [0.36954644 0.66796684 0.0077634 ]\n",
      "    0.3695464371549984 0.6679668356064539 0.0077633963476003405\n",
      "    True\n",
      "    True\n",
      "    [0.98503439 0.98214439 0.78257718]\n",
      "    0.9850343933423366 0.9821443944318851 0.7825771843575409\n",
      "    True\n",
      "    True\n"
     ]
    }
   ],
   "source": [
    "doctest.run_docstring_examples(ik_wrist, globals())"
   ]
  },
  {
   "cell_type": "markdown",
   "id": "8328ed3e",
   "metadata": {},
   "source": [
    "## Symbolic description for rotation matrix of the wrist"
   ]
  },
  {
   "cell_type": "code",
   "execution_count": 13,
   "id": "d2a7d388",
   "metadata": {},
   "outputs": [],
   "source": [
    "import sympy as sy\n",
    "sy.init_printing()"
   ]
  },
  {
   "cell_type": "code",
   "execution_count": 15,
   "id": "9a89b9bb",
   "metadata": {},
   "outputs": [
    {
     "data": {
      "image/png": "[encoded data removed]",
      "text/latex": [
       "$\\displaystyle \\left[\\begin{matrix}\\cos{\\left(th_{1} \\right)} \\cos{\\left(th_{2} \\right)} & - \\sin{\\left(th_{1} \\right)} \\cos{\\left(th_{3} \\right)} + \\sin{\\left(th_{2} \\right)} \\sin{\\left(th_{3} \\right)} \\cos{\\left(th_{1} \\right)} & \\sin{\\left(th_{1} \\right)} \\sin{\\left(th_{3} \\right)} + \\sin{\\left(th_{2} \\right)} \\cos{\\left(th_{1} \\right)} \\cos{\\left(th_{3} \\right)}\\\\\\sin{\\left(th_{1} \\right)} \\cos{\\left(th_{2} \\right)} & \\sin{\\left(th_{1} \\right)} \\sin{\\left(th_{2} \\right)} \\sin{\\left(th_{3} \\right)} + \\cos{\\left(th_{1} \\right)} \\cos{\\left(th_{3} \\right)} & \\sin{\\left(th_{1} \\right)} \\sin{\\left(th_{2} \\right)} \\cos{\\left(th_{3} \\right)} - \\sin{\\left(th_{3} \\right)} \\cos{\\left(th_{1} \\right)}\\\\- \\sin{\\left(th_{2} \\right)} & \\sin{\\left(th_{3} \\right)} \\cos{\\left(th_{2} \\right)} & \\cos{\\left(th_{2} \\right)} \\cos{\\left(th_{3} \\right)}\\end{matrix}\\right]$"
      ],
      "text/plain": [
       "⎡cos(th₁)⋅cos(th₂)  -sin(th₁)⋅cos(th₃) + sin(th₂)⋅sin(th₃)⋅cos(th₁)  sin(th₁)⋅sin(th₃) + sin(th₂)⋅cos(th₁)⋅cos(th₃\n",
       "⎢                                                                                                                 \n",
       "⎢sin(th₁)⋅cos(th₂)  sin(th₁)⋅sin(th₂)⋅sin(th₃) + cos(th₁)⋅cos(th₃)   sin(th₁)⋅sin(th₂)⋅cos(th₃) - sin(th₃)⋅cos(th₁\n",
       "⎢                                                                                                                 \n",
       "⎣    -sin(th₂)                     sin(th₃)⋅cos(th₂)                               cos(th₂)⋅cos(th₃)              \n",
       "\n",
       ")⎤\n",
       " ⎥\n",
       ")⎥\n",
       " ⎥\n",
       " ⎦"
      ]
     },
     "execution_count": 15,
     "metadata": {},
     "output_type": "execute_result"
    }
   ],
   "source": [
    "th1, th2, th3 = sy.symbols('th1, th2, th3')\n",
    "\n",
    "Rzs = sm.SO3.Rz(th1)\n",
    "Rys = sm.SO3.Ry(th2)\n",
    "Rxs = sm.SO3.Rx(th3)\n",
    "R = Rzs*Rys*Rxs\n",
    "sy.Matrix(R.A)"
   ]
  },
  {
   "cell_type": "code",
   "execution_count": null,
   "id": "7381ec2f",
   "metadata": {},
   "outputs": [],
   "source": []
  },
  {
   "cell_type": "code",
   "execution_count": 11,
   "id": "a544cd98",
   "metadata": {},
   "outputs": [],
   "source": []
  },
  {
   "cell_type": "code",
   "execution_count": null,
   "id": "70cd1c69",
   "metadata": {},
   "outputs": [],
   "source": []
  }
 ],
 "metadata": {
  "kernelspec": {
   "display_name": "Python 3 (ipykernel)",
   "language": "python",
   "name": "python3"
  },
  "language_info": {
   "codemirror_mode": {
    "name": "ipython",
    "version": 3
   },
   "file_extension": ".py",
   "mimetype": "text/x-python",
   "name": "python",
   "nbconvert_exporter": "python",
   "pygments_lexer": "ipython3",
   "version": "3.8.11"
  }
 },
 "nbformat": 4,
 "nbformat_minor": 5
}
