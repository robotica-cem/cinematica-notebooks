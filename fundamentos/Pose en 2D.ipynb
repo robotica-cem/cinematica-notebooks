{
 "cells": [
  {
   "cell_type": "markdown",
   "id": "42ef6757",
   "metadata": {},
   "source": [
    "# Pose en 2D\n",
    "\n",
    "Consider two frames of reference in the plane.\n",
    "<img src=\"https://github.com/robotica-cem/cinematica-notebooks/blob/main/figures/2d-2refsystems.png?raw=true\" width=500 />\n",
    "\n",
    "We want to find the rigid transformation that maps points in {B} to points in {A}\n",
    "$$^Ap = d_{ab} + R_{ab}^Bp$$"
   ]
  },
  {
   "cell_type": "code",
   "execution_count": 1,
   "id": "48eafb91",
   "metadata": {},
   "outputs": [],
   "source": [
    "import numpy as np\n",
    "import doctest"
   ]
  },
  {
   "cell_type": "code",
   "execution_count": 2,
   "id": "e17ceebf",
   "metadata": {},
   "outputs": [],
   "source": [
    "def rot_matrix(theta):\n",
    "    '''\n",
    "    Returns a rotation matrix for a rotation of theta degrees in the x-y plane.\n",
    "    \n",
    "    Arguments\n",
    "    ---------\n",
    "    theta : float\n",
    "       the angle in degrees\n",
    "       \n",
    "    Returns\n",
    "    -------\n",
    "    R : numpy array (2 x 2)\n",
    "       The rotation matrix that will rotate a vector the angle given. The angle between\n",
    "       v' = Rv and v will be theta degrees with a positive angle meaning a positive rotation \n",
    "       of v to v' about the z-axis pointing out from the plane.\n",
    "       \n",
    "    Tests\n",
    "    -----\n",
    "    \n",
    "    1) Rotation of a vector aligned with the x-axis\n",
    "    >>> th = 30\n",
    "    >>> R = rot_matrix(th)\n",
    "    >>> v = np.array([1, 0])\n",
    "    >>> v1 = np.dot(R, v)\n",
    "    >>> \"v_x=%0.2f, v_y=%0.2f\" %tuple(v1)\n",
    "    'v_x=0.87, v_y=0.50'\n",
    "    \n",
    "    2) Rotation of a vector aligned with the y-axis\n",
    "    >>> th = 60\n",
    "    >>> R = rot_matrix(th)\n",
    "    >>> v = np.array([0, 1])\n",
    "    >>> v2 = np.dot(R, v)\n",
    "    >>> \"v_x=%0.2f, v_y=%0.2f\" %tuple(v2)\n",
    "    'v_x=-0.87, v_y=0.50'\n",
    "    \n",
    "    3) Transpose equals rotation of negative angle\n",
    "    >>> th=80\n",
    "    >>> R1 = rot_matrix(th)\n",
    "    >>> R2 = rot_matrix(-th)\n",
    "    >>> np.allclose(R1.T, R2)\n",
    "    True\n",
    "    '''\n",
    "    \n",
    "    R = np.eye(3)\n",
    "    return R"
   ]
  },
  {
   "cell_type": "markdown",
   "id": "29c1a332",
   "metadata": {},
   "source": [
    "## Run doctests"
   ]
  },
  {
   "cell_type": "code",
   "execution_count": 6,
   "id": "3e71f7e3",
   "metadata": {},
   "outputs": [
    {
     "name": "stdout",
     "output_type": "stream",
     "text": [
      "**********************************************************************\n",
      "File \"__main__\", line 24, in NoName\n",
      "Failed example:\n",
      "    v1 = np.dot(R, v)\n",
      "Exception raised:\n",
      "    Traceback (most recent call last):\n",
      "      File \"/home/kjartan/.pyenv/versions/3.8.11/lib/python3.8/doctest.py\", line 1336, in __run\n",
      "        exec(compile(example.source, filename, \"single\",\n",
      "      File \"<doctest NoName[3]>\", line 1, in <module>\n",
      "        v1 = np.dot(R, v)\n",
      "      File \"<__array_function__ internals>\", line 5, in dot\n",
      "    ValueError: shapes (3,3) and (2,) not aligned: 3 (dim 1) != 2 (dim 0)\n",
      "**********************************************************************\n",
      "File \"__main__\", line 25, in NoName\n",
      "Failed example:\n",
      "    \"v_x=%0.2f, v_y=%0.2f\" %tuple(v1)\n",
      "Exception raised:\n",
      "    Traceback (most recent call last):\n",
      "      File \"/home/kjartan/.pyenv/versions/3.8.11/lib/python3.8/doctest.py\", line 1336, in __run\n",
      "        exec(compile(example.source, filename, \"single\",\n",
      "      File \"<doctest NoName[4]>\", line 1, in <module>\n",
      "        \"v_x=%0.2f, v_y=%0.2f\" %tuple(v1)\n",
      "    NameError: name 'v1' is not defined\n",
      "**********************************************************************\n",
      "File \"__main__\", line 32, in NoName\n",
      "Failed example:\n",
      "    v2 = np.dot(R, v)\n",
      "Exception raised:\n",
      "    Traceback (most recent call last):\n",
      "      File \"/home/kjartan/.pyenv/versions/3.8.11/lib/python3.8/doctest.py\", line 1336, in __run\n",
      "        exec(compile(example.source, filename, \"single\",\n",
      "      File \"<doctest NoName[8]>\", line 1, in <module>\n",
      "        v2 = np.dot(R, v)\n",
      "      File \"<__array_function__ internals>\", line 5, in dot\n",
      "    ValueError: shapes (3,3) and (2,) not aligned: 3 (dim 1) != 2 (dim 0)\n",
      "**********************************************************************\n",
      "File \"__main__\", line 33, in NoName\n",
      "Failed example:\n",
      "    \"v_x=%0.2f, v_y=%0.2f\" %tuple(v2)\n",
      "Exception raised:\n",
      "    Traceback (most recent call last):\n",
      "      File \"/home/kjartan/.pyenv/versions/3.8.11/lib/python3.8/doctest.py\", line 1336, in __run\n",
      "        exec(compile(example.source, filename, \"single\",\n",
      "      File \"<doctest NoName[9]>\", line 1, in <module>\n",
      "        \"v_x=%0.2f, v_y=%0.2f\" %tuple(v2)\n",
      "    NameError: name 'v2' is not defined\n"
     ]
    }
   ],
   "source": [
    "doctest.run_docstring_examples(rot_matrix, globals(), verbose=False)"
   ]
  },
  {
   "cell_type": "markdown",
   "id": "1c445cdb",
   "metadata": {},
   "source": [
    "## The rigid transform asked for\n",
    "Going from points given in system {B} to points given in system{A} means rotating by negative 30 degrees, and then adding the displacement of the origin of {B}"
   ]
  },
  {
   "cell_type": "code",
   "execution_count": 4,
   "id": "04bb6c66",
   "metadata": {},
   "outputs": [],
   "source": [
    "def transformAB(theta, d_ab, p_b):\n",
    "    '''\n",
    "    Transforms points given in reference frame B to reference frame A, where frames\n",
    "    A and B are related as in the initial figure: B is translated d_ab \n",
    "    and rotated an angle theta.\n",
    "    \n",
    "    Arguments\n",
    "    ---------\n",
    "    theta : float\n",
    "       The angle in degrees\n",
    "    d_ab : 1-dim np.array of length 2\n",
    "       The translation of the origin of {B} (in coordinates of {A})\n",
    "    p_b : 1-dim np.array of length 2\n",
    "       point in coordinates of {B}\n",
    "\n",
    "    Tests\n",
    "    -----\n",
    "    \n",
    "    1) \n",
    "    >>> th = 30\n",
    "    >>> d_ab = np.array([4,2])\n",
    "    >>> p_b = np.array([1, np.sqrt(3)])\n",
    "    >>> p_a = transformAB(th, d_ab, p_b)\n",
    "    >>> \"p_x=%0.2f, p_y=%0.2f\" %tuple(p_a)\n",
    "    'p_x=4.00, p_y=4.00'\n",
    "    \n",
    "    2) \n",
    "    >>> th = -60\n",
    "    >>> d_ab = np.array([4,6])\n",
    "    >>> p_b = np.array([np.sqrt(3), -1])\n",
    "    >>> p_a = transformAB(th, d_ab, p_b)\n",
    "    >>> \"p_x=%0.2f, p_y=%0.2f\" %tuple(p_a)\n",
    "    'p_x=4.00, p_y=4.00'\n",
    "    \n",
    "    '''\n",
    "      "
   ]
  },
  {
   "cell_type": "markdown",
   "id": "2b62c99b",
   "metadata": {},
   "source": [
    "## Run doctests\n",
    "\n"
   ]
  },
  {
   "cell_type": "code",
   "execution_count": 7,
   "id": "f5c379d5",
   "metadata": {},
   "outputs": [
    {
     "name": "stdout",
     "output_type": "stream",
     "text": [
      "**********************************************************************\n",
      "File \"__main__\", line 24, in NoName\n",
      "Failed example:\n",
      "    \"p_x=%0.2f, p_y=%0.2f\" %tuple(p_a)\n",
      "Exception raised:\n",
      "    Traceback (most recent call last):\n",
      "      File \"/home/kjartan/.pyenv/versions/3.8.11/lib/python3.8/doctest.py\", line 1336, in __run\n",
      "        exec(compile(example.source, filename, \"single\",\n",
      "      File \"<doctest NoName[4]>\", line 1, in <module>\n",
      "        \"p_x=%0.2f, p_y=%0.2f\" %tuple(p_a)\n",
      "    TypeError: 'NoneType' object is not iterable\n",
      "**********************************************************************\n",
      "File \"__main__\", line 32, in NoName\n",
      "Failed example:\n",
      "    \"p_x=%0.2f, p_y=%0.2f\" %tuple(p_a)\n",
      "Exception raised:\n",
      "    Traceback (most recent call last):\n",
      "      File \"/home/kjartan/.pyenv/versions/3.8.11/lib/python3.8/doctest.py\", line 1336, in __run\n",
      "        exec(compile(example.source, filename, \"single\",\n",
      "      File \"<doctest NoName[9]>\", line 1, in <module>\n",
      "        \"p_x=%0.2f, p_y=%0.2f\" %tuple(p_a)\n",
      "    TypeError: 'NoneType' object is not iterable\n"
     ]
    }
   ],
   "source": [
    "doctest.run_docstring_examples(transformAB, globals(), verbose=False)"
   ]
  },
  {
   "cell_type": "code",
   "execution_count": null,
   "id": "3b0aec66",
   "metadata": {},
   "outputs": [],
   "source": []
  },
  {
   "cell_type": "code",
   "execution_count": null,
   "id": "daa50254",
   "metadata": {},
   "outputs": [],
   "source": []
  }
 ],
 "metadata": {
  "kernelspec": {
   "display_name": "Python 3 (ipykernel)",
   "language": "python",
   "name": "python3"
  },
  "language_info": {
   "codemirror_mode": {
    "name": "ipython",
    "version": 3
   },
   "file_extension": ".py",
   "mimetype": "text/x-python",
   "name": "python",
   "nbconvert_exporter": "python",
   "pygments_lexer": "ipython3",
   "version": "3.8.11"
  }
 },
 "nbformat": 4,
 "nbformat_minor": 5
}
