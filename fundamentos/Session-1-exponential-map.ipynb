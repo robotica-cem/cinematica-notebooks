{
 "cells": [
  {
   "cell_type": "markdown",
   "id": "b29dde9a",
   "metadata": {},
   "source": [
    "# The exponential map"
   ]
  },
  {
   "cell_type": "code",
   "execution_count": null,
   "id": "8c85820f",
   "metadata": {},
   "outputs": [],
   "source": [
    "!pip install spatialmath-python"
   ]
  },
  {
   "cell_type": "code",
   "execution_count": null,
   "id": "1f2800b9",
   "metadata": {},
   "outputs": [],
   "source": [
    "import numpy as np\n",
    "import spatialmath as sm\n",
    "import doctest"
   ]
  },
  {
   "cell_type": "code",
   "execution_count": null,
   "id": "5357076c",
   "metadata": {},
   "outputs": [],
   "source": [
    "def so3(w):\n",
    "    '''\n",
    "    Returns the skew-symmetric matrix, element of so(3) corresponding to the vector w.\n",
    "    \n",
    "    Arguments\n",
    "    ---------\n",
    "    w : array-like of length 3\n",
    "    \n",
    "    Returns\n",
    "    -------\n",
    "    w_hat : ndarray (3x3)\n",
    "    \n",
    "    Tests\n",
    "    -----\n",
    "    \n",
    "    1) Return value of correct dimension\n",
    "    >>> what = so3([1,2,3])\n",
    "    >>> what.shape == (3,3)\n",
    "    True\n",
    "    \n",
    "    2) Return value must be skew-symmetric\n",
    "    >>> what = so3([4,5,6])\n",
    "    >>> np.allclose(what + what.T, np.zeros((3,3)))\n",
    "    True\n",
    "    '''\n",
    "    "
   ]
  },
  {
   "cell_type": "code",
   "execution_count": null,
   "id": "0e15e85b",
   "metadata": {},
   "outputs": [],
   "source": [
    "doctest.run_docstring_examples(so3, globals(), verbose=True)"
   ]
  },
  {
   "cell_type": "markdown",
   "id": "dc3f6bcd",
   "metadata": {},
   "source": [
    "### Implement Rodrigues' formula for the exponential of a skew-symmetric 3x3 matrix"
   ]
  },
  {
   "cell_type": "code",
   "execution_count": null,
   "id": "c4e82410",
   "metadata": {},
   "outputs": [],
   "source": [
    "def rodrigues(theta, rot_axis):\n",
    "    '''\n",
    "    Computes the rotation matrix for a rotation of angle theta about the axis with \n",
    "    direction rot_axis, using the usual right-hand rule for positive rotations.\n",
    "    Returns a 3x3 rotation matrix\n",
    "    \n",
    "    Arguments\n",
    "    ---------\n",
    "    theta : float\n",
    "       The angle\n",
    "    rot_axis : numpy array with 3 elements \n",
    "       Axis of rotation. Will be normalized to unit if not already so.\n",
    "       \n",
    "    Returns\n",
    "    -------\n",
    "    R : numpy array 3x3\n",
    "      Rotation matrix\n",
    "      \n",
    "    Tests\n",
    "    1) Returns a rotation matrix\n",
    "    >>> from random import random\n",
    "    >>> Rs = [rodrigues(random(), np.array([random(),random(),random()]))\n",
    "    ...    for i in range(20)] # Generate 20 random rotation matrices\n",
    "    >>> Ids = [np.dot(R_, R_.T) for R_ in Rs]\n",
    "    >>> isIdentity = np.array (  [ I_.shape[0] == 3 and I_.shape[1] ==3 \n",
    "    ...    and np.allclose(I_, np.eye(3))for I_ in Ids] )\n",
    "    >>> isIdentity.all()\n",
    "    True\n",
    "    \n",
    "    2) Rotation about z-axis\n",
    "    >>> th = np.pi/4\n",
    "    >>> R = rodrigues(th, np.array([0,0,1]))\n",
    "    >>> c = np.cos(th); s = np.sin(th)\n",
    "    >>> Rexp = np.array([[c, -s, 0], [s, c, 0], [0, 0, 1]])\n",
    "    >>> np.allclose(R, Rexp)\n",
    "    True\n",
    "    >>> th = np.pi/2\n",
    "    >>> R = rodrigues(th, np.array([0,0,1]))\n",
    "    >>> c = np.cos(th); s = np.sin(th)\n",
    "    >>> Rexp = np.array([[c, -s, 0], [s, c, 0], [0, 0, 1]])\n",
    "    >>> np.allclose(R, Rexp)\n",
    "    True\n",
    "    \n",
    "    '''\n",
    "    \n",
    "  "
   ]
  },
  {
   "cell_type": "code",
   "execution_count": null,
   "id": "1a18894b",
   "metadata": {},
   "outputs": [],
   "source": [
    "doctest.run_docstring_examples(rodrigues, globals(), verbose=True)"
   ]
  },
  {
   "cell_type": "markdown",
   "id": "18f79654",
   "metadata": {},
   "source": [
    "### Compare the speed of Rodriques' with the standard matrix exponential"
   ]
  },
  {
   "cell_type": "code",
   "execution_count": null,
   "id": "13981f41",
   "metadata": {},
   "outputs": [],
   "source": [
    "from scipy.linalg import expm\n",
    "w = np.array([0,0,1])\n",
    "th = np.pi/10\n",
    "%timeit rodrigues(th,w)\n",
    "\n",
    "%timeit expm(so3(w*th))"
   ]
  },
  {
   "cell_type": "code",
   "execution_count": null,
   "id": "b3281912",
   "metadata": {},
   "outputs": [],
   "source": []
  }
 ],
 "metadata": {
  "kernelspec": {
   "display_name": "Python 3 (ipykernel)",
   "language": "python",
   "name": "python3"
  },
  "language_info": {
   "codemirror_mode": {
    "name": "ipython",
    "version": 3
   },
   "file_extension": ".py",
   "mimetype": "text/x-python",
   "name": "python",
   "nbconvert_exporter": "python",
   "pygments_lexer": "ipython3",
   "version": "3.8.11"
  }
 },
 "nbformat": 4,
 "nbformat_minor": 5
}
