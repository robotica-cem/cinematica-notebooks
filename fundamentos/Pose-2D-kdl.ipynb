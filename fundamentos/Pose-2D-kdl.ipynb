{
 "cells": [
  {
   "cell_type": "markdown",
   "id": "42eb139a",
   "metadata": {},
   "source": [
    "## Preliminary\n",
    "### Installing kdl (kinematics and dynamics library, used in ros)\n",
    "The following cell will install kdl on google colab.\n",
    "For documentation on kdl see \n",
    "\n",
    "https://www.orocos.org/kdl/user-manual"
   ]
  },
  {
   "cell_type": "code",
   "execution_count": null,
   "id": "7e18cd73",
   "metadata": {},
   "outputs": [],
   "source": [
    "!git clone https://github.com/orocos/orocos_kinematics_dynamics.git\n",
    "!apt install libeigen3-dev libcppunit-dev # Without sudo on colab\n",
    "!mkdir orocos_kinematics_dynamics/orocos_kdl/build\n",
    "%cd orocos_kinematics_dynamics/orocos_kdl/build\n",
    "!cmake ..\n",
    "!make\n",
    "!make install\n",
    "%cd ../../python_orocos_kdl\n",
    "!git submodule update --init\n",
    "!mkdir build\n",
    "%cd build\n",
    "!cmake ..\n",
    "!make\n",
    "!make install\n",
    "!export LD_LIBRARY_PATH=$LD_LIBRARY_PATH:/usr/local/lib\n",
    "!ldconfig\n",
    "!python3 ../tests/PyKDLtest.py"
   ]
  },
  {
   "cell_type": "markdown",
   "id": "42ef6757",
   "metadata": {},
   "source": [
    "# Pose en 2D\n",
    "\n",
    "Consider two frames of reference in the plane.\n",
    "<img src=\"https://github.com/robotica-cem/cinematica-notebooks/blob/main/figures/2d-2refsystems.png?raw=true\" width=500 />\n",
    "\n",
    "We want to find the rigid transformation that maps points in {B} to points in {A}\n",
    "$$^Ap = d_{ab} + R_{ab}^Bp$$"
   ]
  },
  {
   "cell_type": "code",
   "execution_count": null,
   "id": "48eafb91",
   "metadata": {},
   "outputs": [],
   "source": [
    "import numpy as np\n",
    "import doctest\n",
    "import PyKDL as kdl"
   ]
  },
  {
   "cell_type": "code",
   "execution_count": null,
   "id": "e17ceebf",
   "metadata": {},
   "outputs": [],
   "source": [
    "def rot_matrix(theta):\n",
    "    '''\n",
    "    Returns a rotation matrix for a rotation of theta degrees in the x-y plane.\n",
    "    \n",
    "    Arguments\n",
    "    ---------\n",
    "    theta : float\n",
    "       the angle in degrees\n",
    "       \n",
    "    Returns\n",
    "    -------\n",
    "    R : kdl Rotation (3 x 3)\n",
    "       The rotation matrix that will rotate a vector the angle given. The angle between\n",
    "       v' = Rv and v will be theta degrees with a positive angle meaning a positive rotation \n",
    "       of v to v' about the z-axis pointing out from the plane.\n",
    "       \n",
    "    Tests\n",
    "    -----\n",
    "    \n",
    "    1) Rotation of a vector aligned with the x-axis\n",
    "    >>> th = 30\n",
    "    >>> R = rot_matrix(th)\n",
    "    >>> v = kdl.Vector(1, 0, 0)\n",
    "    >>> v1 = R * v\n",
    "    >>> \"v_x=%0.2f, v_y=%0.2f\" %(v1.x(), v1.y())\n",
    "    'v_x=0.87, v_y=0.50'\n",
    "    \n",
    "    2) Rotation of a vector aligned with the y-axis\n",
    "    >>> th = 60\n",
    "    >>> R = rot_matrix(th)\n",
    "    >>> v = kdl.Vector(0, 1, 0)\n",
    "    >>> v2 = R *  v\n",
    "    >>> \"v_x=%0.2f, v_y=%0.2f\" %(v2.x(), v2.y())\n",
    "    'v_x=-0.87, v_y=0.50'\n",
    "    \n",
    "    3) Transpose equals rotation of negative angle\n",
    "    >>> th=80\n",
    "    >>> R1 = rot_matrix(th)\n",
    "    >>> R2 = rot_matrix(-th)\n",
    "    >>> kdl.Equal(R1, R2.Inverse(), 1e-10)\n",
    "    True\n",
    "    '''\n",
    "    \n",
    "    return kdl.RotationIdentity()"
   ]
  },
  {
   "cell_type": "markdown",
   "id": "29c1a332",
   "metadata": {},
   "source": [
    "## Run doctests\n",
    "\n",
    "If tests pass, no output is generated. Otherwise, error message is shown.\n"
   ]
  },
  {
   "cell_type": "code",
   "execution_count": null,
   "id": "3e71f7e3",
   "metadata": {},
   "outputs": [],
   "source": [
    "doctest.run_docstring_examples(rot_matrix, globals())"
   ]
  },
  {
   "cell_type": "markdown",
   "id": "1c445cdb",
   "metadata": {},
   "source": [
    "## The rigid transform asked for\n",
    "Going from points given in system {B} to points given in system{A} means rotating by negative 30 degrees, and then adding the displacement of the origin of {B}.\n",
    "**Note:** This is the exact same transformation that, if applied to frame {B} in a situation when {A} and {B} cooincide, would move frame {B} to its current position. "
   ]
  },
  {
   "cell_type": "code",
   "execution_count": null,
   "id": "04bb6c66",
   "metadata": {},
   "outputs": [],
   "source": [
    "def transformAB(theta, d_ab, p_b):\n",
    "    '''\n",
    "    Transforms points given in reference frame B to reference frame A, where frames\n",
    "    A and B are related as in the initial figure: B is translated d_ab \n",
    "    and rotated an angle theta.\n",
    "    \n",
    "    Arguments\n",
    "    ---------\n",
    "    theta : float\n",
    "       The angle in degrees\n",
    "    d_ab : kdl Vector\n",
    "       The translation of the origin of {B} (in coordinates of {A})\n",
    "    p_b : kdl Vector\n",
    "       A point in coordinates of {B}\n",
    "\n",
    "    Returns\n",
    "    -------\n",
    "    p_a : kld Vector \n",
    "       The point p_b, in frame {A}.\n",
    "    \n",
    "    Tests\n",
    "    -----\n",
    "    \n",
    "    1) \n",
    "    >>> th = 30\n",
    "    >>> d_ab = kdl.Vector(4, 2, 0)\n",
    "    >>> p_b = kdl.Vector(1, np.sqrt(3), 0)\n",
    "    >>> p_a = transformAB(th, d_ab, p_b)\n",
    "    >>> \"p_x=%0.2f, p_y=%0.2f\" %(p_a.x(), p_a.y())\n",
    "    'p_x=4.00, p_y=4.00'\n",
    "    \n",
    "    2) \n",
    "    >>> th = -60\n",
    "    >>> d_ab = kdl.Vector(4, 6, 0)\n",
    "    >>> p_b = kdl.Vector(np.sqrt(3), -1, 0)\n",
    "    >>> p_a = transformAB(th, d_ab, p_b)\n",
    "    >>> \"p_x=%0.2f, p_y=%0.2f\" %(p_a.x(), p_a.y())\n",
    "    'p_x=4.00, p_y=4.00'\n",
    "    \n",
    "    '''\n",
    "    return kdl.Vector(0,0,0)\n",
    "    "
   ]
  },
  {
   "cell_type": "markdown",
   "id": "2b62c99b",
   "metadata": {},
   "source": [
    "## Run doctests\n",
    "\n",
    "If tests pass, no output is generated. Otherwise, error message is shown.\n",
    "\n"
   ]
  },
  {
   "cell_type": "code",
   "execution_count": null,
   "id": "f5c379d5",
   "metadata": {},
   "outputs": [],
   "source": [
    "doctest.run_docstring_examples(transformAB, globals())"
   ]
  }
 ],
 "metadata": {
  "kernelspec": {
   "display_name": "Python 3 (ipykernel)",
   "language": "python",
   "name": "python3"
  },
  "language_info": {
   "codemirror_mode": {
    "name": "ipython",
    "version": 3
   },
   "file_extension": ".py",
   "mimetype": "text/x-python",
   "name": "python",
   "nbconvert_exporter": "python",
   "pygments_lexer": "ipython3",
   "version": "3.8.11"
  }
 },
 "nbformat": 4,
 "nbformat_minor": 5
}
