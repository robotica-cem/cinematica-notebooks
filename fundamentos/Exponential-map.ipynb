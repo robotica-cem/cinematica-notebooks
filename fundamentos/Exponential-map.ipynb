{
 "cells": [
  {
   "cell_type": "markdown",
   "id": "b29dde9a",
   "metadata": {},
   "source": [
    "# The exponential map"
   ]
  },
  {
   "cell_type": "code",
   "execution_count": null,
   "id": "1f2800b9",
   "metadata": {},
   "outputs": [],
   "source": [
    "import numpy as np\n",
    "import doctest"
   ]
  },
  {
   "cell_type": "code",
   "execution_count": null,
   "id": "5357076c",
   "metadata": {},
   "outputs": [],
   "source": [
    "def so3(w):\n",
    "    '''\n",
    "    Returns the skew-symmetric matrix, element of so(3) corresponding to the vector w.\n",
    "    \n",
    "    Arguments\n",
    "    ---------\n",
    "    w : array-like of length 3\n",
    "    \n",
    "    Returns\n",
    "    -------\n",
    "    w_hat : ndarray (3x3)\n",
    "    \n",
    "    Tests\n",
    "    -----\n",
    "    \n",
    "    1) Return value of correct dimension\n",
    "    >>> what = so3([1,2,3])\n",
    "    >>> what.shape == (3,3)\n",
    "    True\n",
    "    \n",
    "    2) Return value must be skew-symmetric\n",
    "    >>> what = so3([4,5,6])\n",
    "    >>> np.allclose(what + what.T, np.zeros((3,3)))\n",
    "    True\n",
    "    '''\n",
    "    \n",
    "    return np.array([[0,-w[2], w[1]], \n",
    "                     [w[2], 0, -w[0]],\n",
    "                    [-w[1], w[0], 0]])\n",
    "    \n",
    "    "
   ]
  },
  {
   "cell_type": "code",
   "execution_count": null,
   "id": "0e15e85b",
   "metadata": {},
   "outputs": [],
   "source": [
    "doctest.run_docstring_examples(so3, globals(), verbose=True)"
   ]
  },
  {
   "cell_type": "markdown",
   "id": "dc3f6bcd",
   "metadata": {},
   "source": [
    "### Implement Rodrigues' formula for the exponential of a skew-symmetric 3x3 matrix\n",
    "Rodrigues' formula gives the rotation matrix corresponding to a rotation of an angle $\\theta$ about an axis of direction $\\omega$.\n",
    "$$ R(\\theta, \\omega) = I + \\sin(\\theta) \\omega^\\wedge + \\big(1-\\cos(\\theta)\\big) \\big(\\omega^\\wedge \\omega^\\wedge\\big), $$\n",
    "where $\\omega^\\wedge$ is the skew-symmetric 3x3 matrix associated with the 3D vector $\\omega$."
   ]
  },
  {
   "cell_type": "code",
   "execution_count": null,
   "id": "c4e82410",
   "metadata": {},
   "outputs": [],
   "source": [
    "def rodrigues(theta, rot_axis):\n",
    "    '''\n",
    "    Computes the rotation matrix for a rotation of angle theta about the axis with \n",
    "    direction rot_axis, using the usual right-hand rule for positive rotations.\n",
    "    Returns a 3x3 rotation matrix\n",
    "    \n",
    "    Arguments\n",
    "    ---------\n",
    "    theta : float\n",
    "       The angle in radians\n",
    "    rot_axis : numpy array with 3 elements \n",
    "       Axis of rotation. Will be normalized to unit if not already so.\n",
    "       \n",
    "    Returns\n",
    "    -------\n",
    "    R : numpy array 3x3\n",
    "      Rotation matrix\n",
    "      \n",
    "    Tests\n",
    "    1) Returns a rotation matrix\n",
    "    >>> from random import random\n",
    "    >>> Rs = [rodrigues(random(), np.array([random(),random(),random()]))\n",
    "    ...    for i in range(20)] # Generate 20 random rotation matrices\n",
    "    >>> Ids = [np.dot(R_, R_.T) for R_ in Rs]\n",
    "    >>> isIdentity = np.array (  [ I_.shape[0] == 3 and I_.shape[1] ==3 \n",
    "    ...    and np.allclose(I_, np.eye(3))for I_ in Ids] )\n",
    "    >>> isIdentity.all()\n",
    "    True\n",
    "    \n",
    "    2) Rotation about z-axis\n",
    "    >>> th = np.pi/4\n",
    "    >>> R = rodrigues(th, np.array([0,0,1]))\n",
    "    >>> c = np.cos(th); s = np.sin(th)\n",
    "    >>> Rexp = np.array([[c, -s, 0], [s, c, 0], [0, 0, 1]])\n",
    "    >>> np.allclose(R, Rexp)\n",
    "    True\n",
    "    >>> th = np.pi/2\n",
    "    >>> R = rodrigues(th, np.array([0,0,1]))\n",
    "    >>> c = np.cos(th); s = np.sin(th)\n",
    "    >>> Rexp = np.array([[c, -s, 0], [s, c, 0], [0, 0, 1]])\n",
    "    >>> np.allclose(R, Rexp)\n",
    "    True\n",
    "    \n",
    "    '''\n",
    "    \n",
    "    # Normalize\n",
    "    w = rot_axis / np.linalg.norm(rot_axis)\n",
    "    K = so3(w)\n",
    "    return np.eye(3)"
   ]
  },
  {
   "cell_type": "code",
   "execution_count": null,
   "id": "1a18894b",
   "metadata": {},
   "outputs": [],
   "source": [
    "doctest.run_docstring_examples(rodrigues, globals(), verbose=False)"
   ]
  },
  {
   "cell_type": "markdown",
   "id": "18f79654",
   "metadata": {},
   "source": [
    "### Compare the speed of computing using Rodriques' with the standard matrix exponential"
   ]
  },
  {
   "cell_type": "code",
   "execution_count": null,
   "id": "13981f41",
   "metadata": {},
   "outputs": [],
   "source": [
    "from scipy.linalg import expm\n",
    "w = np.array([0,0,1])\n",
    "th = np.pi/10\n",
    "%timeit rodrigues(th,w)\n",
    "\n",
    "%timeit expm(so3(w*th))"
   ]
  },
  {
   "cell_type": "markdown",
   "id": "a595d42c",
   "metadata": {},
   "source": [
    "## Composite rotations\n",
    "\n",
    "Consider the wrist of a robot arm. The wrist has three revolute joints whose axes coincide in a single point called the wrist point. Consider reference frames attached to the lower arm, and to each of the moving parts of the wrist. In the reference configuration, these reference frames coincides with origin at the wrist point.\n",
    "\n",
    "The first rotation is about the x-axis, the second rotation about the y-axis, and the third rotation about the z-axis.\n",
    "\n",
    "Implement the basic rotations about the three orthogonal axes, and verify that you get the same result as when using the exponential map."
   ]
  },
  {
   "cell_type": "code",
   "execution_count": null,
   "id": "0f7b9fab",
   "metadata": {},
   "outputs": [],
   "source": [
    "def Rx(th):\n",
    "    '''\n",
    "    Returns the rotation matrix for a rotation about the x-axis of angle th\n",
    "\n",
    "    Tests\n",
    "    -----\n",
    "    >>> th = np.pi/3\n",
    "    >>> Rx1 = Rx(th)\n",
    "    >>> Rx2 = rodrigues(th, np.array([1,0,0]))\n",
    "    >>> np.allclose(Rx1, Rx2)\n",
    "    True\n",
    "    '''\n",
    "    cth = np.cos(th)\n",
    "    sth = np.sin(th)\n",
    "    return np.array([[1, 0, 0],\n",
    "                    [0, cth, -sth],\n",
    "                    [0, sth, cth]])\n",
    "\n",
    "def Ry(th):\n",
    "    '''\n",
    "    Returns the rotation matrix for a rotation about the x-axis of angle th\n",
    "\n",
    "    Tests\n",
    "    -----\n",
    "    >>> th = np.pi/3\n",
    "    >>> Ry1 = Ry(th)\n",
    "    >>> Ry2 = rodrigues(th, np.array([0,1,0]))\n",
    "    >>> np.allclose(Ry1, Ry2)\n",
    "    True\n",
    "    '''\n",
    "    cth = np.cos(th)\n",
    "    sth = np.sin(th)\n",
    "  \n",
    "def Rz(th):\n",
    "    '''\n",
    "    Returns the rotation matrix for a rotation about the x-axis of angle th\n",
    "\n",
    "    Tests\n",
    "    -----\n",
    "    >>> th = np.pi/3\n",
    "    >>> Rz1 = Rz(th)\n",
    "    >>> Rz2 = rodrigues(th, np.array([0,0,1]))\n",
    "    >>> np.allclose(Rz1, Rz2)\n",
    "    True\n",
    "    '''\n",
    "    cth = np.cos(th)\n",
    "    sth = np.sin(th)\n"
   ]
  },
  {
   "cell_type": "code",
   "execution_count": null,
   "id": "88e3631f",
   "metadata": {},
   "outputs": [],
   "source": [
    "doctest.run_docstring_examples(Rx, globals(), verbose=False)\n",
    "doctest.run_docstring_examples(Ry, globals(), verbose=False)\n",
    "doctest.run_docstring_examples(Rz, globals(), verbose=False)"
   ]
  },
  {
   "cell_type": "code",
   "execution_count": null,
   "id": "3753419e",
   "metadata": {},
   "outputs": [],
   "source": []
  }
 ],
 "metadata": {
  "kernelspec": {
   "display_name": "Python 3 (ipykernel)",
   "language": "python",
   "name": "python3"
  },
  "language_info": {
   "codemirror_mode": {
    "name": "ipython",
    "version": 3
   },
   "file_extension": ".py",
   "mimetype": "text/x-python",
   "name": "python",
   "nbconvert_exporter": "python",
   "pygments_lexer": "ipython3",
   "version": "3.8.11"
  }
 },
 "nbformat": 4,
 "nbformat_minor": 5
}
