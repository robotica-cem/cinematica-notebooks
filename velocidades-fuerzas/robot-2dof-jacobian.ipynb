{
 "cells": [
  {
   "cell_type": "markdown",
   "id": "48f7c0b5",
   "metadata": {
    "id": "48f7c0b5"
   },
   "source": [
    "# Velocities and forces \n",
    "\n",
    "Consider the planar RR robot below\n",
    "\n",
    "<img src=\"https://github.com/robotica-cem/cinematica-notebooks/blob/main/figures/2d-2dof-revolute.png?raw=true\" width=400 />"
   ]
  },
  {
   "cell_type": "markdown",
   "id": "a33f36c3",
   "metadata": {},
   "source": [
    "We are interested in the position $p$ and velocity $v$ of the origin of the end frame, given in the spatial frame.\n",
    "\n",
    "## The forward kinematics\n",
    "First find the forward kinematics map\n",
    "$$^Bp = f(\\theta_1, \\theta_2) = ^B T_E(\\theta_1, \\theta_2) ^E p. $$\n",
    "To derive this, we define a frame L fixed in link 1 with its origin at the joint."
   ]
  },
  {
   "cell_type": "code",
   "execution_count": 1,
   "id": "313fd15a",
   "metadata": {},
   "outputs": [],
   "source": [
    "import sympy as sy\n",
    "sy.init_printing()"
   ]
  },
  {
   "cell_type": "code",
   "execution_count": 2,
   "id": "00036cb4",
   "metadata": {},
   "outputs": [
    {
     "data": {
      "image/png": "[encoded data removed]",
      "text/latex": [
       "$\\displaystyle \\left[\\begin{matrix}\\cos{\\left(\\theta_{1} \\right)} & - \\sin{\\left(\\theta_{1} \\right)} & 0 & l_{1} \\cos{\\left(\\theta_{1} \\right)}\\\\\\sin{\\left(\\theta_{1} \\right)} & \\cos{\\left(\\theta_{1} \\right)} & 0 & l_{1} \\sin{\\left(\\theta_{1} \\right)}\\\\0 & 0 & 1 & 0\\\\0 & 0 & 0 & 1\\end{matrix}\\right]$"
      ],
      "text/plain": [
       "⎡cos(θ₁)  -sin(θ₁)  0  l₁⋅cos(θ₁)⎤\n",
       "⎢                                ⎥\n",
       "⎢sin(θ₁)  cos(θ₁)   0  l₁⋅sin(θ₁)⎥\n",
       "⎢                                ⎥\n",
       "⎢   0        0      1      0     ⎥\n",
       "⎢                                ⎥\n",
       "⎣   0        0      0      1     ⎦"
      ]
     },
     "execution_count": 2,
     "metadata": {},
     "output_type": "execute_result"
    }
   ],
   "source": [
    "th1, th2, l1, l2 = sy.symbols('theta_1, theta_2, l_1, l_2')\n",
    "c1 = sy.cos(th1)\n",
    "s1 = sy.sin(th1)\n",
    "c2 = sy.cos(th2)\n",
    "s2 = sy.sin(th2)\n",
    "\n",
    "T_BL = sy.eye(4)\n",
    "T_BL[0,0] = c1\n",
    "T_BL[1,1] = c1\n",
    "T_BL[0, 1] = -s1\n",
    "T_BL[1, 0] = s1\n",
    "T_BL[0, 3] = l1*c1 \n",
    "T_BL[1, 3] = l1*s1\n",
    "T_BL"
   ]
  },
  {
   "cell_type": "code",
   "execution_count": 3,
   "id": "ef1d30cf",
   "metadata": {},
   "outputs": [
    {
     "data": {
      "image/png": "[encoded data removed]",
      "text/latex": [
       "$\\displaystyle \\left[\\begin{matrix}\\cos{\\left(\\theta_{2} \\right)} & - \\sin{\\left(\\theta_{2} \\right)} & 0 & l_{2} \\cos{\\left(\\theta_{2} \\right)}\\\\\\sin{\\left(\\theta_{2} \\right)} & \\cos{\\left(\\theta_{2} \\right)} & 0 & l_{2} \\sin{\\left(\\theta_{2} \\right)}\\\\0 & 0 & 1 & 0\\\\0 & 0 & 0 & 1\\end{matrix}\\right]$"
      ],
      "text/plain": [
       "⎡cos(θ₂)  -sin(θ₂)  0  l₂⋅cos(θ₂)⎤\n",
       "⎢                                ⎥\n",
       "⎢sin(θ₂)  cos(θ₂)   0  l₂⋅sin(θ₂)⎥\n",
       "⎢                                ⎥\n",
       "⎢   0        0      1      0     ⎥\n",
       "⎢                                ⎥\n",
       "⎣   0        0      0      1     ⎦"
      ]
     },
     "execution_count": 3,
     "metadata": {},
     "output_type": "execute_result"
    }
   ],
   "source": [
    "T_LE = sy.eye(4)\n",
    "T_LE[0,0] = c2\n",
    "T_LE[1,1] = c2\n",
    "T_LE[0, 1] = -s2\n",
    "T_LE[1, 0] = s2\n",
    "T_LE[0, 3] = l2*c2 \n",
    "T_LE[1, 3] = l2*s2\n",
    "T_LE"
   ]
  },
  {
   "cell_type": "code",
   "execution_count": 4,
   "id": "5e44a0df",
   "metadata": {},
   "outputs": [
    {
     "data": {
      "image/png": "[encoded data removed]",
      "text/latex": [
       "$\\displaystyle \\left[\\begin{matrix}\\cos{\\left(\\theta_{1} + \\theta_{2} \\right)} & - \\sin{\\left(\\theta_{1} + \\theta_{2} \\right)} & 0 & l_{1} \\cos{\\left(\\theta_{1} \\right)} + l_{2} \\cos{\\left(\\theta_{1} + \\theta_{2} \\right)}\\\\\\sin{\\left(\\theta_{1} + \\theta_{2} \\right)} & \\cos{\\left(\\theta_{1} + \\theta_{2} \\right)} & 0 & l_{1} \\sin{\\left(\\theta_{1} \\right)} + l_{2} \\sin{\\left(\\theta_{1} + \\theta_{2} \\right)}\\\\0 & 0 & 1 & 0\\\\0 & 0 & 0 & 1\\end{matrix}\\right]$"
      ],
      "text/plain": [
       "⎡cos(θ₁ + θ₂)  -sin(θ₁ + θ₂)  0  l₁⋅cos(θ₁) + l₂⋅cos(θ₁ + θ₂)⎤\n",
       "⎢                                                            ⎥\n",
       "⎢sin(θ₁ + θ₂)  cos(θ₁ + θ₂)   0  l₁⋅sin(θ₁) + l₂⋅sin(θ₁ + θ₂)⎥\n",
       "⎢                                                            ⎥\n",
       "⎢     0              0        1               0              ⎥\n",
       "⎢                                                            ⎥\n",
       "⎣     0              0        0               1              ⎦"
      ]
     },
     "execution_count": 4,
     "metadata": {},
     "output_type": "execute_result"
    }
   ],
   "source": [
    "T_BE = sy.simplify(T_BL * T_LE)\n",
    "T_BE"
   ]
  },
  {
   "cell_type": "code",
   "execution_count": 5,
   "id": "1142ee90",
   "metadata": {},
   "outputs": [
    {
     "data": {
      "image/png": "[encoded data removed]",
      "text/latex": [
       "$\\displaystyle \\left[\\begin{matrix}l_{1} \\cos{\\left(\\theta_{1} \\right)} + l_{2} \\cos{\\left(\\theta_{1} + \\theta_{2} \\right)}\\\\l_{1} \\sin{\\left(\\theta_{1} \\right)} + l_{2} \\sin{\\left(\\theta_{1} + \\theta_{2} \\right)}\\\\0\\\\1\\end{matrix}\\right]$"
      ],
      "text/plain": [
       "⎡l₁⋅cos(θ₁) + l₂⋅cos(θ₁ + θ₂)⎤\n",
       "⎢                            ⎥\n",
       "⎢l₁⋅sin(θ₁) + l₂⋅sin(θ₁ + θ₂)⎥\n",
       "⎢                            ⎥\n",
       "⎢             0              ⎥\n",
       "⎢                            ⎥\n",
       "⎣             1              ⎦"
      ]
     },
     "execution_count": 5,
     "metadata": {},
     "output_type": "execute_result"
    }
   ],
   "source": [
    "p_E = sy.Matrix([[0], [0], [0], [1]])\n",
    "p_B = T_BE @ p_E\n",
    "p_B"
   ]
  },
  {
   "cell_type": "markdown",
   "id": "f3d0eeb2",
   "metadata": {},
   "source": [
    "## The velocity of the end point.\n",
    "Let \n",
    "$$ \\theta = \\begin{bmatrix} \\theta_1\\\\\\theta_2\\end{bmatrix}. $$\n",
    "\n",
    "Using the chain rule, we can find the velocity of the end point as\n",
    "$$ ^B v = \\frac{d}{dt} ^B p = \\frac{d}{dt} f(\\theta) = \\underbrace{\\frac{d}{d\\theta} f(\\theta)}_{J_s(\\theta)} \\frac{d\\theta}{dt}, $$\n",
    "where the 4 x 2 matrix $J_s(\\theta)$ is called the *spatial Jacobian*, and is given by\n",
    "$$ J_s(\\theta) = \\begin{bmatrix} \\frac{\\partial}{\\partial\\theta_1} f(\\theta) & \\frac{\\partial}{\\partial \\theta_2} f(\\theta) \\end{bmatrix}. $$\n",
    "Note that\n",
    "$$ \\frac{d}{dt} \\theta = \\begin{bmatrix} \\dot{\\theta_1}\\\\\\dot{\\theta}_2 \\end{bmatrix}. $$\n",
    "\n",
    "### Interpretation of the Jacobian\n",
    "The velocity of the end point can be written\n",
    "$$ ^B v = \\begin{bmatrix} \\frac{\\partial}{\\partial\\theta_1} f(\\theta) & \\frac{\\partial}{\\partial \\theta_2} f(\\theta) \\end{bmatrix}  \\begin{bmatrix} \\dot{\\theta_1}\\\\\\dot{\\theta}_2 \\end{bmatrix}, $$\n",
    "From which we can interpret that the column $i$ of the Jacobian tells us how much a certain angular velocity $\\dot{\\theta}_i$ in that joint contributes to the velocity of the end point.\n",
    "\n",
    "### Calculating the Jacobian\n",
    "Since \n",
    "$$ f(\\theta) = ^B T_E(\\theta_1, \\theta_2)\\, ^E p = ^B T_L(\\theta_1)\\, ^LT(\\theta_2)_E\\, ^E p, $$\n",
    "we get\n",
    "$$\\frac{\\partial}{\\partial\\theta_1}f(\\theta) = \\left( \\frac{\\partial}{\\partial\\theta_1} ^B T_L(\\theta_1)\\right)\\, ^LT(\\theta_2)_E\\, ^E p, $$\n",
    "and\n",
    "$$\\frac{\\partial}{\\partial\\theta_2}f(\\theta) = ^BT(\\theta_1)_L \\,\\left( \\frac{\\partial}{\\partial\\theta_2} ^L T_E(\\theta_2)\\right)\\,  ^E p. $$\n",
    "For instance,"
   ]
  },
  {
   "cell_type": "code",
   "execution_count": 6,
   "id": "1042652c",
   "metadata": {},
   "outputs": [
    {
     "data": {
      "image/png": "[encoded data removed]",
      "text/latex": [
       "$\\displaystyle \\left[\\begin{matrix}- \\sin{\\left(\\theta_{1} \\right)} & - \\cos{\\left(\\theta_{1} \\right)} & 0 & - l_{1} \\sin{\\left(\\theta_{1} \\right)}\\\\\\cos{\\left(\\theta_{1} \\right)} & - \\sin{\\left(\\theta_{1} \\right)} & 0 & l_{1} \\cos{\\left(\\theta_{1} \\right)}\\\\0 & 0 & 0 & 0\\\\0 & 0 & 0 & 0\\end{matrix}\\right]$"
      ],
      "text/plain": [
       "⎡-sin(θ₁)  -cos(θ₁)  0  -l₁⋅sin(θ₁)⎤\n",
       "⎢                                  ⎥\n",
       "⎢cos(θ₁)   -sin(θ₁)  0  l₁⋅cos(θ₁) ⎥\n",
       "⎢                                  ⎥\n",
       "⎢   0         0      0       0     ⎥\n",
       "⎢                                  ⎥\n",
       "⎣   0         0      0       0     ⎦"
      ]
     },
     "execution_count": 6,
     "metadata": {},
     "output_type": "execute_result"
    }
   ],
   "source": [
    "sy.diff(T_BL, th1)"
   ]
  },
  {
   "cell_type": "code",
   "execution_count": 7,
   "id": "e85cd19c",
   "metadata": {},
   "outputs": [
    {
     "data": {
      "image/png": "[encoded data removed]",
      "text/latex": [
       "$\\displaystyle \\left[\\begin{matrix}- l_{1} \\sin{\\left(\\theta_{1} \\right)} - l_{2} \\sin{\\left(\\theta_{1} + \\theta_{2} \\right)}\\\\l_{1} \\cos{\\left(\\theta_{1} \\right)} + l_{2} \\cos{\\left(\\theta_{1} + \\theta_{2} \\right)}\\\\0\\\\0\\end{matrix}\\right]$"
      ],
      "text/plain": [
       "⎡-l₁⋅sin(θ₁) - l₂⋅sin(θ₁ + θ₂)⎤\n",
       "⎢                             ⎥\n",
       "⎢l₁⋅cos(θ₁) + l₂⋅cos(θ₁ + θ₂) ⎥\n",
       "⎢                             ⎥\n",
       "⎢              0              ⎥\n",
       "⎢                             ⎥\n",
       "⎣              0              ⎦"
      ]
     },
     "execution_count": 7,
     "metadata": {},
     "output_type": "execute_result"
    }
   ],
   "source": [
    "Jac_1 = sy.diff(T_BE, th1) @ p_E\n",
    "Jac_1"
   ]
  },
  {
   "cell_type": "code",
   "execution_count": 8,
   "id": "4343abb4",
   "metadata": {},
   "outputs": [
    {
     "data": {
      "image/png": "[encoded data removed]",
      "text/latex": [
       "$\\displaystyle \\left[\\begin{matrix}- l_{2} \\sin{\\left(\\theta_{1} + \\theta_{2} \\right)}\\\\l_{2} \\cos{\\left(\\theta_{1} + \\theta_{2} \\right)}\\\\0\\\\0\\end{matrix}\\right]$"
      ],
      "text/plain": [
       "⎡-l₂⋅sin(θ₁ + θ₂)⎤\n",
       "⎢                ⎥\n",
       "⎢l₂⋅cos(θ₁ + θ₂) ⎥\n",
       "⎢                ⎥\n",
       "⎢       0        ⎥\n",
       "⎢                ⎥\n",
       "⎣       0        ⎦"
      ]
     },
     "execution_count": 8,
     "metadata": {},
     "output_type": "execute_result"
    }
   ],
   "source": [
    "Jac_2 = sy.diff(T_BE, th2) @ p_E\n",
    "Jac_2"
   ]
  },
  {
   "cell_type": "code",
   "execution_count": 9,
   "id": "c0a6ccdf",
   "metadata": {},
   "outputs": [
    {
     "data": {
      "image/png": "[encoded data removed]",
      "text/latex": [
       "$\\displaystyle \\left[\\begin{matrix}- l_{1} \\sin{\\left(\\theta_{1} \\right)} - l_{2} \\sin{\\left(\\theta_{1} + \\theta_{2} \\right)} & - l_{2} \\sin{\\left(\\theta_{1} + \\theta_{2} \\right)}\\\\l_{1} \\cos{\\left(\\theta_{1} \\right)} + l_{2} \\cos{\\left(\\theta_{1} + \\theta_{2} \\right)} & l_{2} \\cos{\\left(\\theta_{1} + \\theta_{2} \\right)}\\\\0 & 0\\\\0 & 0\\end{matrix}\\right]$"
      ],
      "text/plain": [
       "⎡-l₁⋅sin(θ₁) - l₂⋅sin(θ₁ + θ₂)  -l₂⋅sin(θ₁ + θ₂)⎤\n",
       "⎢                                               ⎥\n",
       "⎢l₁⋅cos(θ₁) + l₂⋅cos(θ₁ + θ₂)   l₂⋅cos(θ₁ + θ₂) ⎥\n",
       "⎢                                               ⎥\n",
       "⎢              0                       0        ⎥\n",
       "⎢                                               ⎥\n",
       "⎣              0                       0        ⎦"
      ]
     },
     "execution_count": 9,
     "metadata": {},
     "output_type": "execute_result"
    }
   ],
   "source": [
    "Jac_s = sy.Matrix.hstack(Jac_1, Jac_2)\n",
    "Jac_s"
   ]
  },
  {
   "cell_type": "markdown",
   "id": "e60f93c8",
   "metadata": {},
   "source": [
    "### Exercise \n",
    "Compare the result above to the built-in sympy jacobian function"
   ]
  },
  {
   "cell_type": "code",
   "execution_count": 10,
   "id": "715cf672",
   "metadata": {},
   "outputs": [],
   "source": [
    "?sy.Matrix.jacobian"
   ]
  },
  {
   "cell_type": "code",
   "execution_count": 11,
   "id": "bddb4147",
   "metadata": {},
   "outputs": [],
   "source": [
    "##############################\n",
    "# Your code here\n",
    "#############################"
   ]
  },
  {
   "cell_type": "markdown",
   "id": "96aa1dc1",
   "metadata": {},
   "source": [
    "## Implementation"
   ]
  },
  {
   "cell_type": "code",
   "execution_count": 12,
   "id": "d9eef8a2",
   "metadata": {},
   "outputs": [],
   "source": [
    "import numpy as np\n",
    "import doctest"
   ]
  },
  {
   "cell_type": "code",
   "execution_count": 13,
   "id": "5535416b",
   "metadata": {},
   "outputs": [],
   "source": [
    "def RR_vel(th1, th2, th1dot, th2dot, l1=2, l2=1):\n",
    "    \"\"\" Calculates the velocity of the end point of the planar RR robot\n",
    "    \n",
    "    Arguments\n",
    "    ---------\n",
    "    th1, th2 : float\n",
    "       Angle in radians of the two degree of freedoms, respectively.\n",
    "    th1dot, th2dot : float\n",
    "       Angular velocity in radians/s of the two degree of freedoms, respectively.\n",
    "    l1, l2 : float\n",
    "       Length of the two links, respectively.\n",
    " \n",
    "    Returns\n",
    "    -------\n",
    "    xdot : float\n",
    "       The velocity of the end-effector (tool point) in the global x-direction \n",
    "    ydot : float\n",
    "       The velocity of the end-effector (tool point) in the global y-direction \n",
    "\n",
    "\n",
    "    Tests\n",
    "    ------\n",
    "    1) \n",
    "    >>> l1, l2 = 2, 1\n",
    "    >>> th1, th2 = 0,0\n",
    "    >>> th1dot = 1\n",
    "    >>> th2dot = 0\n",
    "    >>> xdot, ydot = RR_vel(th1, th2, th1dot, th2dot, l1, l2)\n",
    "    >>> np.allclose([xdot, ydot], [0, (l1+l2)*th1dot])\n",
    "    True\n",
    "\n",
    "    2) \n",
    "    >>> l1, l2 = 2, 1\n",
    "    >>> th1, th2 = 0,0\n",
    "    >>> th1dot = 0\n",
    "    >>> th2dot = -1\n",
    "    >>> xdot, ydot = RR_vel(th1, th2, th1dot, th2dot, l1, l2)\n",
    "    >>> np.allclose([xdot, ydot], [0, l2*th2dot])\n",
    "    True\n",
    "\n",
    "    3) \n",
    "    >>> l1, l2 = 2, 1\n",
    "    >>> th1, th2 = np.pi/2, 0\n",
    "    >>> th1dot = 0\n",
    "    >>> th2dot = 1\n",
    "    >>> xdot, ydot = RR_vel(th1, th2, th1dot, th2dot, l1, l2)\n",
    "    >>> np.allclose([xdot, ydot], [-l2*th2dot, 0])\n",
    "    True\n",
    "    \n",
    "    4) \n",
    "    >>> l1, l2 = 2, 1\n",
    "    >>> th1, th2 = np.pi/2, np.pi/2\n",
    "    >>> th1dot = 1\n",
    "    >>> th2dot = 0\n",
    "    >>> xdot, ydot = RR_vel(th1, th2, th1dot, th2dot, l1, l2)\n",
    "    >>> np.allclose([xdot, ydot], [-l1*th1dot, -l2*th1dot])\n",
    "    True\n",
    "    \n",
    "    \"\"\"\n",
    "    \n",
    "    c1 = np.cos(th1)\n",
    "    s1 = np.sin(th1)\n",
    "    c2 = np.cos(th2)\n",
    "    s2 = np.sin(th2)\n",
    "    c12 = np.cos(th1+th2)\n",
    "    s12 = np.sin(th1+th2)\n",
    "    \n",
    "    # The jacobian\n",
    "    # Derivative of forward map w.r.t theta_1\n",
    "    J_s1 = np.array([-l1*s1 - l2*s12, l1*c1 + l2*c12, 0, 0])\n",
    "    \n",
    "    #################################################################\n",
    "    # Your code here\n",
    "    # Derivative of forward map w.r.t theta_2\n",
    "    J_s2 = np.zeros(4) # This is wrong! Correct it \n",
    "    #################################################################\n",
    "    \n",
    "    \n",
    "    J_s = np.vstack((J_s1, J_s2)).T\n",
    "    \n",
    "    # The vector of angular velocities\n",
    "    thdot = np.array([th1dot, th2dot])\n",
    "    \n",
    "    v = J_s @ thdot\n",
    "    \n",
    "    #print(v)\n",
    "    return v[0], v[1]\n"
   ]
  },
  {
   "cell_type": "code",
   "execution_count": 14,
   "id": "9cc8bc9d",
   "metadata": {},
   "outputs": [
    {
     "name": "stdout",
     "output_type": "stream",
     "text": [
      "**********************************************************************\n",
      "File \"__main__\", line 38, in NoName\n",
      "Failed example:\n",
      "    np.allclose([xdot, ydot], [0, l2*th2dot])\n",
      "Expected:\n",
      "    True\n",
      "Got:\n",
      "    False\n",
      "**********************************************************************\n",
      "File \"__main__\", line 47, in NoName\n",
      "Failed example:\n",
      "    np.allclose([xdot, ydot], [-l2*th2dot, 0])\n",
      "Expected:\n",
      "    True\n",
      "Got:\n",
      "    False\n"
     ]
    }
   ],
   "source": [
    "doctest.run_docstring_examples(RR_vel, globals())"
   ]
  },
  {
   "cell_type": "code",
   "execution_count": null,
   "id": "8ccd738d",
   "metadata": {},
   "outputs": [],
   "source": []
  }
 ],
 "metadata": {
  "colab": {
   "name": "robot-2dof.ipynb",
   "provenance": []
  },
  "kernelspec": {
   "display_name": "Python 3 (ipykernel)",
   "language": "python",
   "name": "python3"
  },
  "language_info": {
   "codemirror_mode": {
    "name": "ipython",
    "version": 3
   },
   "file_extension": ".py",
   "mimetype": "text/x-python",
   "name": "python",
   "nbconvert_exporter": "python",
   "pygments_lexer": "ipython3",
   "version": "3.8.11"
  }
 },
 "nbformat": 4,
 "nbformat_minor": 5
}
