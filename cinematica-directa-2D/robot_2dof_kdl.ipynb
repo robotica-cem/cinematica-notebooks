{
 "cells": [
  {
   "cell_type": "markdown",
   "id": "48f7c0b5",
   "metadata": {
    "id": "48f7c0b5"
   },
   "source": [
    "# Forward kinematics of 2dof planar robots\n",
    "\n",
    "## Case 1) Two revolute joints\n",
    "\n",
    "<img src=\"https://github.com/robotica-cem/cinematica-notebooks/blob/main/figures/2d-2dof-revolute.png?raw=true\" width=400 />\n",
    "\n",
    "\n",
    "## Case 2) Revolute joint followed by prismatic joint\n",
    "\n",
    "<img src=\"https://github.com/robotica-cem/cinematica-notebooks/blob/main/figures/2d-2dof-revolute-prismatic.png?raw=true\" width=400 />\n",
    "\n"
   ]
  },
  {
   "cell_type": "markdown",
   "id": "74d2fff5",
   "metadata": {},
   "source": [
    "### Preliminaries - Installing KDL\n",
    "API documentation for KDL:\n",
    "- http://docs.ros.org/en/diamondback/api/kdl/html/python/\n",
    "- http://docs.ros.org/en/indigo/api/orocos_kdl/html/namespaceKDL.html"
   ]
  },
  {
   "cell_type": "code",
   "execution_count": null,
   "id": "187ad709",
   "metadata": {},
   "outputs": [],
   "source": [
    "!git clone https://github.com/orocos/orocos_kinematics_dynamics.git\n",
    "!apt install libeigen3-dev libcppunit-dev # Without sudo on colab\n",
    "!mkdir orocos_kinematics_dynamics/orocos_kdl/build\n",
    "%cd orocos_kinematics_dynamics/orocos_kdl/build\n",
    "!cmake ..\n",
    "!make\n",
    "!make install\n",
    "%cd ../../python_orocos_kdl\n",
    "!git submodule update --init\n",
    "!mkdir build\n",
    "%cd build\n",
    "!cmake ..\n",
    "!make\n",
    "!make install\n",
    "!export LD_LIBRARY_PATH=$LD_LIBRARY_PATH:/usr/local/lib\n",
    "!ldconfig\n",
    "!python3 ../tests/PyKDLtest.py"
   ]
  },
  {
   "cell_type": "markdown",
   "id": "4a7cbc5d",
   "metadata": {},
   "source": [
    "### Case 1"
   ]
  },
  {
   "cell_type": "code",
   "execution_count": null,
   "id": "f3ab12a1",
   "metadata": {
    "id": "f3ab12a1"
   },
   "outputs": [],
   "source": [
    "import numpy as np\n",
    "import doctest\n",
    "import PyKDL as kdl"
   ]
  },
  {
   "cell_type": "code",
   "execution_count": null,
   "id": "2d98a0d0",
   "metadata": {
    "id": "2d98a0d0"
   },
   "outputs": [],
   "source": [
    "class TwoR:\n",
    "    ''' Represents a planar robotic arm RR\n",
    "    '''\n",
    "\n",
    "    def __init__(self, l1=2, l2=1):\n",
    "        '''\n",
    "        Arguments\n",
    "        ---------\n",
    "        l1, l2 : float\n",
    "           Length of the two links, respectively.\n",
    "        '''\n",
    "        \n",
    "        # Define a kinematic chain, by connecting segments\n",
    "        arm = kdl.Chain()\n",
    "        \n",
    "        # The first segment is rotating about the z-axis, and its tip\n",
    "        # is located at a distance of l1 in the x-direction.\n",
    "        segment1 = kdl.Segment(joint=kdl.Joint(kdl.Joint.RotZ), \n",
    "                              f_tip = kdl.Frame(kdl.Rotation.Identity(), \n",
    "                                               kdl.Vector(l1, 0, 0)))\n",
    "        arm.addSegment(segment1)\n",
    "        \n",
    "        # The second segment when added to the chain, will have its joint located\n",
    "        # at the tip of the previous segment.\n",
    "         \n",
    "        ########################################################################\n",
    "        # Your code here\n",
    "        # Define the second segment and add it to the chain\n",
    "        ########################################################################\n",
    "        \n",
    "        self.arm = arm\n",
    "        \n",
    "        # The forward kinematics solver\n",
    "        self.fksolver = kdl.ChainFkSolverPos_recursive(self.arm)\n",
    "        \n",
    "        \n",
    "    def fk(self, th1, th2):\n",
    "        '''\n",
    "        Implements the forward kinematics.\n",
    "        \n",
    "        Arguments\n",
    "        ---------\n",
    "        th1, th2 : float\n",
    "           Angle in radians of the two degree of freedoms, respectively.\n",
    "    \n",
    "        Returns\n",
    "        -------\n",
    "        x : float\n",
    "           The position in the global x-direction of the end-effector (tool point)\n",
    "        y : float\n",
    "           The position in the global y-direction of the end-effector (tool point)\n",
    "        theta : float\n",
    "           The orientation of the end-effector with respect to the positive global x-axis.\n",
    "           The angle returned is in the range [-np.pi, np.pi]\n",
    "       j : tuple with 2 elements\n",
    "           The position of the joint between the two links\n",
    "    \n",
    "        Tests\n",
    "        ------\n",
    "        >>> l1, l2 = 2, 1\n",
    "        >>> arm = TwoR(l1, l2)\n",
    "        >>> # 1) End-effector pose at default position\n",
    "        >>> x, y, th, j = arm.fk(0, 0)\n",
    "        >>> \"(%0.2f, %0.2f, %0.2f)\" %(x, y, th)\n",
    "        '(3.00, 0.00, 0.00)'\n",
    "        >>> # 2) End-effector pose at 90 degrees in both joints\n",
    "        >>> x, y, th, j = arm.fk(np.pi/2, np.pi/2)\n",
    "        >>> \"(%0.2f, %0.2f, %0.2f)\" %(x, y, th)\n",
    "        '(-1.00, 2.00, 3.14)'\n",
    "        >>> # 3) End-effector pose at 0 degress in first joint and 90 degress in second\n",
    "        >>> x, y, th, j = arm.fk(0, np.pi/2)\n",
    "        >>> \"(%0.2f, %0.2f, %0.2f)\" %(x, y, th)\n",
    "        '(2.00, 1.00, 1.57)'\n",
    "        >>> # 4) End-effector position is always inside a circle of radius l1+l2\n",
    "        >>> poses = [arm.fk(th1_, th2_)\n",
    "        ... for th1_ in np.arange(0, 2*np.pi, 0.2) \n",
    "        ... for th2_ in np.arange(0, 2*np.pi, 0.2)]\n",
    "        >>> distances = np.array([np.sqrt(x_**2 + y_**2) for x_, y_, th_, j_ in poses])\n",
    "        >>> max_radius = l1+l2 + 1e-12 # Add a small tolerance\n",
    "        >>> np.any(distances > max_radius)\n",
    "        False\n",
    "        >>> # 5) Joint is always at constant distance from the origin\n",
    "        >>> poses = [arm.fk(th1_, 0)\n",
    "        ... for th1_ in np.arange(0, 2*np.pi, 0.2) ] \n",
    "        >>> distances = np.array([np.sqrt(j_[0]**2 + j_[1]**2) for x_, y_, th_, j_ in poses])\n",
    "        >>> np.any(np.abs(distances - l1) > 1e-12)\n",
    "        False\n",
    "        \n",
    "        '''\n",
    "\n",
    "        thetas = kdl.JntArray(2)\n",
    "        thetas[0] = th1\n",
    "        thetas[1] = th2\n",
    "        \n",
    "        ee_frame = kdl.Frame()\n",
    "        res = self.fksolver.JntToCart(thetas, ee_frame)\n",
    "        if res < 0:\n",
    "            raise RuntimeError(\"Forward kinematics solver failed\")\n",
    "        # The center of the end effector frame\n",
    "        tcp = ee_frame.p\n",
    "        \n",
    "        # The position of the joint\n",
    "        j_frame = kdl.Frame()\n",
    "        res = self.fksolver.JntToCart(thetas, j_frame, 1)\n",
    "        if res < 0:\n",
    "            raise RuntimeError(\"Forward kinematics solver failed\")\n",
    "        jc = j_frame.p\n",
    "        \n",
    "        # Get rotation of end effector\n",
    "        x_e = ee_frame.M * kdl.Vector(1, 0, 0)\n",
    "        theta = np.arctan2(x_e.y(), x_e.x())\n",
    "        \n",
    "        return tcp.x(), tcp.y(), theta, (jc.x(), jc.y())\n",
    "        "
   ]
  },
  {
   "cell_type": "markdown",
   "id": "5bccb932",
   "metadata": {},
   "source": [
    "## Run doctests\n",
    "If tests pass, no output is generated."
   ]
  },
  {
   "cell_type": "code",
   "execution_count": null,
   "id": "8b18c33b",
   "metadata": {},
   "outputs": [],
   "source": [
    "# Case 1)\n",
    "doctest.run_docstring_examples(TwoR.fk, globals())"
   ]
  },
  {
   "cell_type": "markdown",
   "id": "12a2d788",
   "metadata": {},
   "source": [
    "## Case 2)"
   ]
  },
  {
   "cell_type": "code",
   "execution_count": null,
   "id": "c874a996",
   "metadata": {
    "id": "2d98a0d0"
   },
   "outputs": [],
   "source": [
    "class OneROneP:\n",
    "    ''' Represents a manipulator with one revolute joint and one prismatic joint. \n",
    "    '''\n",
    "    \n",
    "    def __init__(self, l1=2):\n",
    "        '''\n",
    "        Arguments\n",
    "        ---------\n",
    "        l1 : float\n",
    "           Length of the first link.\n",
    "         '''\n",
    "        # Define a kinematic chain, by connecting segments\n",
    "        arm = kdl.Chain()\n",
    "        \n",
    "        #####################################################################\n",
    "        # Your code here\n",
    "        # Define the kinematic chain\n",
    "        #####################################################################\n",
    "        \n",
    "        self.arm = arm\n",
    "        \n",
    "        # The forward kinematics solver\n",
    "        self.fksolver = kdl.ChainFkSolverPos_recursive(self.arm)\n",
    "        \n",
    "        \n",
    "        \n",
    "    def fk(self, th1, th2):\n",
    "        '''\n",
    "        Implements the forward kinematics of a robot with one revolute joint and one prismatic. \n",
    "    \n",
    "        Arguments\n",
    "        ---------\n",
    "        th1 : float\n",
    "           Angle in radians of the first degree of freedom.\n",
    "        th2 : float\n",
    "           Displacement in meter of the second degree of freedom.\n",
    "\n",
    "        Returns\n",
    "        -------\n",
    "        x : float\n",
    "           The position in the global x-direction of the end-effector (tool point)\n",
    "        y : float\n",
    "           The position in the global y-direction of the end-effector (tool point)\n",
    "        theta : float\n",
    "           The orientation of the end-effector with respect to the positive global x-axis\n",
    "\n",
    "        Tests\n",
    "        ------\n",
    "        >>> l1 = 2\n",
    "        >>> arm = OneROneP(l1=l1)\n",
    "        >>> # 1) End-effector pose at default position\n",
    "        >>> \"(%0.2f, %0.2f, %0.2f)\" %arm.fk(0, 0)\n",
    "        '(2.00, 0.00, 0.00)'\n",
    "        >>> # 2) End-effector pose at 90 degrees in first joint and 0.6m in second\n",
    "        >>> \"(%0.2f, %0.2f, %0.2f)\" %arm.fk(np.pi/2, 0.6)\n",
    "        '(0.00, 2.60, 1.57)'\n",
    "        >>> # 3) End-effector orientation is always the same as the angle of the first dof\n",
    "        >>> angles = np.array( [th1_ for th1_ in np.arange(-np.pi+0.1, np.pi, 0.2)\n",
    "        ... for th2_ in np.arange(-1, 1, 0.2)])\n",
    "        >>> poses = [arm.fk(th1_, th2_)\n",
    "        ... for th1_ in np.arange(-np.pi+0.1, np.pi, 0.2)\n",
    "        ... for th2_ in np.arange(-1, 1, 0.2)]\n",
    "        >>> orientations = np.array([th_ for x_, y_, th_ in poses])\n",
    "        >>> np.any(np.abs(angles-orientations) > 1e-12)\n",
    "        False\n",
    "        '''\n",
    "        \n",
    "        thetas = kdl.JntArray(2)\n",
    "        thetas[0] = th1\n",
    "        thetas[1] = th2\n",
    "        \n",
    "        ee_frame = kdl.Frame()\n",
    "        res = self.fksolver.JntToCart(thetas, ee_frame)\n",
    "        if res < 0:\n",
    "            raise RuntimeError(\"Forward kinematics solver failed\")\n",
    "    \n",
    "        # The center of the end effector frame\n",
    "        tcp = ee_frame.p\n",
    "        \n",
    "        #####################################################################\n",
    "        # Your code here\n",
    "        # Find the orientation of the end effector\n",
    "        # Return the correct values\n",
    "        #####################################################################\n",
    "        "
   ]
  },
  {
   "cell_type": "markdown",
   "id": "9e19cfd1",
   "metadata": {},
   "source": [
    "## Run doctests\n",
    "If tests pass, no output is generated."
   ]
  },
  {
   "cell_type": "code",
   "execution_count": null,
   "id": "7a7caeb9",
   "metadata": {},
   "outputs": [],
   "source": [
    "# Case 2)\n",
    "doctest.run_docstring_examples(OneROneP.fk, globals())"
   ]
  },
  {
   "cell_type": "markdown",
   "id": "5b89ab55",
   "metadata": {
    "id": "5b89ab55"
   },
   "source": [
    "## Visualize the work space of the 2R robot"
   ]
  },
  {
   "cell_type": "code",
   "execution_count": null,
   "id": "15788236",
   "metadata": {},
   "outputs": [],
   "source": [
    "import pandas as pd\n",
    "import plotly.express as px\n",
    "import plotly.graph_objects as go"
   ]
  },
  {
   "cell_type": "code",
   "execution_count": null,
   "id": "f4c05b80",
   "metadata": {
    "id": "f4c05b80"
   },
   "outputs": [],
   "source": [
    "arm = TwoR()\n",
    "th1 = np.arange(0, 2*np.pi, 0.1)\n",
    "th2 = np.arange(-np.pi, np.pi, 0.1)\n",
    "xythetaj =[ arm.fk(th1_, th2_) for th1_ in th1 for th2_ in th2] \n",
    "xytheta = np.array([ (x_, y_, th_) for x_, y_, th_, j_ in xythetaj])\n",
    "df = pd.DataFrame(data=np.reshape(xytheta, (-1,3)), columns=['x', 'y', 'theta'])"
   ]
  },
  {
   "cell_type": "code",
   "execution_count": null,
   "id": "0fc38a8f",
   "metadata": {
    "colab": {
     "base_uri": "https://localhost:8080/",
     "height": 542
    },
    "id": "0fc38a8f",
    "outputId": "be371e80-cb09-4124-9db9-3d740d5df7af"
   },
   "outputs": [],
   "source": [
    "fig = px.scatter_3d(df, x='x', y='y', z='theta')\n",
    "camera = dict(\n",
    "    up=dict(x=0, y=1, z=0),\n",
    "    center=dict(x=0, y=0, z=0),\n",
    "    eye=dict(x=0, y=0, z=4)\n",
    ")\n",
    "fig.update_scenes(camera_projection_type=\"orthographic\")\n",
    "fig.update_layout(scene_camera=camera)\n",
    "fig.show()\n",
    "\n"
   ]
  },
  {
   "cell_type": "markdown",
   "id": "ff6b7894",
   "metadata": {
    "id": "ff6b7894"
   },
   "source": [
    "## Visualize movement of the manipulator"
   ]
  },
  {
   "cell_type": "code",
   "execution_count": null,
   "id": "40040997",
   "metadata": {
    "colab": {
     "base_uri": "https://localhost:8080/"
    },
    "id": "40040997",
    "outputId": "ca71c732-4535-4726-d7c7-c8fcea23f6d4"
   },
   "outputs": [],
   "source": [
    "poses = [ arm.fk(th1_, th2_) for th1_, th2_ in zip(th1, th2)]\n",
    "endeff_trajectory = np.array([ [x_, y_]  for x_, y_, th_, j_ in poses])\n",
    "joint_trajectory = np.array([ j_  for x_, y_, th_, j_ in poses])"
   ]
  },
  {
   "cell_type": "code",
   "execution_count": null,
   "id": "f558fe6b",
   "metadata": {
    "colab": {
     "base_uri": "https://localhost:8080/",
     "height": 617
    },
    "id": "f558fe6b",
    "outputId": "0f1b033e-3cc2-4b7f-f20e-982baa956864"
   },
   "outputs": [],
   "source": [
    "fig = go.Figure(\n",
    "    data=[go.Scatter(x=[0, joint_trajectory[0,0]], y=[0, joint_trajectory[0,1]], \n",
    "          name=\"First link\", mode=\"lines\",\n",
    "          line=dict(width=6, color=\"blue\")),\n",
    "          go.Scatter(x=[joint_trajectory[0,0], endeff_trajectory[0,0]], \n",
    "                     y=[joint_trajectory[0,1], endeff_trajectory[0,1]], \n",
    "          name=\"Second link\", mode=\"lines\",\n",
    "          line=dict(width=5, color=\"red\")),\n",
    "         go.Scatter(x=joint_trajectory[:,0], y=joint_trajectory[:,1], \n",
    "          name=\"Joint trajectory\", mode=\"lines\",\n",
    "          line=dict(width=1, color=\"lightblue\")),\n",
    "          go.Scatter(x=endeff_trajectory[:,0], y=endeff_trajectory[:,1], \n",
    "          name=\"End-point trajectory\", mode=\"lines\",\n",
    "          line=dict(width=1, color=\"red\"))],\n",
    "    layout=go.Layout( width=700, height=600,\n",
    "        xaxis=dict(range=[-4, 4], autorange=False),\n",
    "        yaxis=dict(range=[-4, 4], autorange=False),\n",
    "        title=\"End-effector trajectory\",\n",
    "        updatemenus=[dict(\n",
    "            type=\"buttons\",\n",
    "            buttons=[dict(label=\"Play\",\n",
    "                          method=\"animate\",\n",
    "                          args=[None])])]\n",
    "    ),\n",
    "    frames=[go.Frame(data=[go.Scatter(x=[0, xj_], y=[0, yj_]),\n",
    "                          go.Scatter(x=[xj_, xe_], y=[yj_, ye_])]) \n",
    "            for xj_, yj_, xe_, ye_ in np.hstack((joint_trajectory, endeff_trajectory))]\n",
    ")\n",
    "\n",
    "fig.show()"
   ]
  }
 ],
 "metadata": {
  "colab": {
   "name": "robot-2dof.ipynb",
   "provenance": []
  },
  "kernelspec": {
   "display_name": "Python 3 (ipykernel)",
   "language": "python",
   "name": "python3"
  },
  "language_info": {
   "codemirror_mode": {
    "name": "ipython",
    "version": 3
   },
   "file_extension": ".py",
   "mimetype": "text/x-python",
   "name": "python",
   "nbconvert_exporter": "python",
   "pygments_lexer": "ipython3",
   "version": "3.8.11"
  }
 },
 "nbformat": 4,
 "nbformat_minor": 5
}
