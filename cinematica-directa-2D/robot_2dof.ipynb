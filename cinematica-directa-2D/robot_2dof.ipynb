{
 "cells": [
  {
   "cell_type": "markdown",
   "id": "48f7c0b5",
   "metadata": {
    "id": "48f7c0b5"
   },
   "source": [
    "# Forward kinematics of 2dof planar robots\n",
    "\n",
    "## Case 1) Two revolute joints\n",
    "\n",
    "<img src=\"https://github.com/robotica-cem/cinematica-notebooks/blob/main/figures/2d-2dof-revolute.png?raw=true\" width=400 />\n",
    "\n",
    "## Case 2) Revolute joint followed by prismatic joint\n",
    "\n",
    "<img src=\"https://github.com/robotica-cem/cinematica-notebooks/blob/main/figures/2d-2dof-revolute-prismatic.png?raw=true\" width=400 />\n"
   ]
  },
  {
   "cell_type": "code",
   "execution_count": null,
   "id": "f3ab12a1",
   "metadata": {
    "id": "f3ab12a1"
   },
   "outputs": [],
   "source": [
    "import numpy as np\n",
    "import pandas as pd\n",
    "import plotly.express as px\n",
    "import plotly.graph_objects as go\n",
    "import doctest"
   ]
  },
  {
   "cell_type": "code",
   "execution_count": null,
   "id": "2d98a0d0",
   "metadata": {
    "id": "2d98a0d0"
   },
   "outputs": [],
   "source": [
    " def fwd_kinematics_2rev(th1, th2, l1=2, l2=1):\n",
    "    '''\n",
    "    Implements the forward kinematics of a robot with two revolute joints. \n",
    "    \n",
    "    Arguments\n",
    "    ---------\n",
    "    th1, th2 : float\n",
    "       Angle in radians of the two degree of freedoms, respectively.\n",
    "    l1, l2 : float\n",
    "       Length of the two links, respectively.\n",
    " \n",
    "    Returns\n",
    "    -------\n",
    "    x : float\n",
    "       The position in the global x-direction of the end-effector (tool point)\n",
    "    y : float\n",
    "       The position in the global y-direction of the end-effector (tool point)\n",
    "    theta : float\n",
    "       The orientation of the end-effector with respect to the positive global x-axis.\n",
    "       The angle returned is in the range [-np.pi, np.pi]\n",
    "   j : tuple with 2 elements\n",
    "       The position of the joint between the two links\n",
    "    \n",
    "    Tests\n",
    "    ------\n",
    "    1) End-effector pose at default position\n",
    "    >>> x, y, th, j = fwd_kinematics_2rev(0, 0)\n",
    "    >>> \"(%0.2f, %0.2f, %0.2f)\" %(x, y, th)\n",
    "    '(3.00, 0.00, 0.00)'\n",
    "    \n",
    "    2) End-effector pose at 90 degrees in both joints\n",
    "    >>> x, y, th, j = fwd_kinematics_2rev(np.pi/2, np.pi/2)\n",
    "    >>> \"(%0.2f, %0.2f, %0.2f)\" %(x, y, th)\n",
    "    '(-1.00, 2.00, 3.14)'\n",
    "    \n",
    "    3) End-effector pose at 0 degress in first joint and 90 degress in second\n",
    "    >>> x, y, th, j = fwd_kinematics_2rev(0, np.pi/2)\n",
    "    >>> \"(%0.2f, %0.2f, %0.2f)\" %(x, y, th)\n",
    "    '(2.00, 1.00, 1.57)'\n",
    "    \n",
    "    4) End-effector position is always inside a circle of a certain radius\n",
    "    >>> poses = [fwd_kinematics_2rev(th1_, th2_, 3, 2)\n",
    "    ... for th1_ in np.arange(0, 2*np.pi, 0.2) \n",
    "    ... for th2_ in np.arange(0, 2*np.pi, 0.2)]\n",
    "    >>> distances = np.array([np.sqrt(x_**2 + y_**2) for x_, y_, th_, j_ in poses])\n",
    "    >>> max_radius = 5 + 1e-12 # Add a small tolerance\n",
    "    >>> np.any(distances > max_radius)\n",
    "    False\n",
    "    \n",
    "    5) Joint is always at constant distance from the origin\n",
    "    >>> poses = [fwd_kinematics_2rev(th1_, 0, 3, 2)\n",
    "    ... for th1_ in np.arange(0, 2*np.pi, 0.2) ] \n",
    "    >>> distances = np.array([np.sqrt(j_[0]**2 + j_[1]**2) for x_, y_, th_, j_ in poses])\n",
    "    >>> np.any(np.abs(distances - 3) > 1e-12)\n",
    "    False\n",
    "    \n",
    "    '''\n",
    "    g_l2e = np.array([[1, 0, 0, l1+l2],\n",
    "                      [0, 1, 0, 0],\n",
    "                      [0, 0, 1, 0],\n",
    "                      [0, 0, 0, 1]])\n",
    "    c1 = np.cos(th1)\n",
    "    s1 = np.sin(th1)\n",
    "    c2 = np.cos(th2)\n",
    "    s2 = np.sin(th2)\n",
    "\n",
    "    R_l1l2 = np.array([[c2, -s2, 0],\n",
    "                       [s2, c2, 0],\n",
    "                       [0, 0, 1]])\n",
    "    q = np.array([l1,0,0])\n",
    "    d_l1l2 = np.dot(np.eye(3) - R_l1l2, q )\n",
    "    g_l1l2 = np.eye(4)\n",
    "    g_l1l2[:3, :3] = R_l1l2\n",
    "    g_l1l2[:3, 3] = d_l1l2\n",
    "\n",
    "    R_sl1 = np.array([[c1, -s1, 0],\n",
    "                       [s1, c1, 0],\n",
    "                       [0, 0, 1]])\n",
    "    d_sl1 = np.zeros((3,1))\n",
    "    g_sl1 = np.eye(4)\n",
    "    g_sl1[:3, :3] = R_sl1\n",
    "    \n",
    "\n",
    "    g_se = np.dot(g_sl1, np.dot(g_l1l2, g_l2e))\n",
    "\n",
    "\n",
    "    x = g_se[0,3]\n",
    "    y = g_se[1, 3]\n",
    "    \n",
    "    theta = th1+th2\n",
    "    #print(np.arccos(g_se[0,0]), theta)\n",
    "\n",
    "    #assert(np.abs(theta-np.arccos(g_se[0,0])) < 1e-8)\n",
    "    \n",
    "    j_s = np.dot(g_sl1, np.array([l1,0,0,1]))\n",
    "\n",
    "    j = tuple(j_s[:2])\n",
    "\n",
    "    return (x, y, theta, j)\n"
   ]
  },
  {
   "cell_type": "code",
   "execution_count": null,
   "id": "c874a996",
   "metadata": {
    "id": "2d98a0d0"
   },
   "outputs": [],
   "source": [
    "def fwd_kinematics_rev_prism(th1, th2, l1=2):\n",
    "    '''\n",
    "    Implements the forward kinematics of a robot with one revolute joint and one prismatic. \n",
    "    \n",
    "    Arguments\n",
    "    ---------\n",
    "    th1 : float\n",
    "       Angle in radians of the first degree of freedom.\n",
    "    th2 : float\n",
    "       Displacement in meter of the second degree of freedom.\n",
    "    l1 : float\n",
    "       Length of the first link.\n",
    " \n",
    "    Returns\n",
    "    -------\n",
    "    x : float\n",
    "       The position in the global x-direction of the end-effector (tool point)\n",
    "    y : float\n",
    "       The position in the global y-direction of the end-effector (tool point)\n",
    "    theta : float\n",
    "       The orientation of the end-effector with respect to the positive global x-axis\n",
    "    \n",
    "    Tests\n",
    "    ------\n",
    "    1) End-effector pose at default position\n",
    "    >>> \"(%0.2f, %0.2f, %0.2f)\" %fwd_kinematics_rev_prism(0, 0)\n",
    "    '(2.00, 0.00, 0.00)'\n",
    "    \n",
    "    2) End-effector pose at 90 degrees in first joint and 0.6m in second\n",
    "    >>> \"(%0.2f, %0.2f, %0.2f)\" %fwd_kinematics_rev_prism(np.pi/2, 0.6)\n",
    "    '(0.00, 2.60, 1.57)'\n",
    "    \n",
    "    4) End-effector orientation is always the same as the angle of the first dof\n",
    "    >>> angles = np.array( [th1_ for th1_ in np.arange(0, 2*np.pi, 0.2)\n",
    "    ... for th2_ in np.arange(-1, 1, 0.2)])\n",
    "    >>> poses = [fwd_kinematics_rev_prism(th1_, th2_)\n",
    "    ... for th1_ in np.arange(0, 2*np.pi, 0.2)\n",
    "    ... for th2_ in np.arange(-1, 1, 0.2)]\n",
    "    >>> orientations = np.array([th_ for x_, y_, th_ in poses])\n",
    "    >>> np.any(np.abs(angles-orientations) > 1e-12)\n",
    "    False\n",
    "    '''\n",
    "    x = 0\n",
    "    y = 0\n",
    "    theta = 0\n",
    "    return (x, y, theta)\n"
   ]
  },
  {
   "cell_type": "markdown",
   "id": "9e19cfd1",
   "metadata": {},
   "source": [
    "## Run doctests\n",
    "If tests pass, no output is generated."
   ]
  },
  {
   "cell_type": "code",
   "execution_count": null,
   "id": "7a7caeb9",
   "metadata": {},
   "outputs": [],
   "source": [
    "# Case 1)\n",
    "doctest.run_docstring_examples(fwd_kinematics_2rev, globals())\n",
    "# Case 2)\n",
    "doctest.run_docstring_examples(fwd_kinematics_rev_prism, globals())"
   ]
  },
  {
   "cell_type": "markdown",
   "id": "5b89ab55",
   "metadata": {
    "id": "5b89ab55"
   },
   "source": [
    "## Visualize the work space of the robot"
   ]
  },
  {
   "cell_type": "code",
   "execution_count": null,
   "id": "f4c05b80",
   "metadata": {
    "id": "f4c05b80"
   },
   "outputs": [],
   "source": [
    "th1 = np.arange(0, 2*np.pi, 0.1)\n",
    "th2 = np.arange(-np.pi, np.pi, 0.1)\n",
    "xythetaj =[ fwd_kinematics_2rev(th1_, th2_) for th1_ in th1 for th2_ in th2] \n",
    "xytheta = np.array([ (x_, y_, th_) for x_, y_, th_, j_ in xythetaj])\n",
    "df = pd.DataFrame(data=np.reshape(xytheta, (-1,3)), columns=['x', 'y', 'theta'])"
   ]
  },
  {
   "cell_type": "code",
   "execution_count": null,
   "id": "0fc38a8f",
   "metadata": {
    "colab": {
     "base_uri": "https://localhost:8080/",
     "height": 542
    },
    "id": "0fc38a8f",
    "outputId": "be371e80-cb09-4124-9db9-3d740d5df7af"
   },
   "outputs": [],
   "source": [
    "fig = px.scatter_3d(df, x='x', y='y', z='theta')\n",
    "camera = dict(\n",
    "    up=dict(x=0, y=1, z=0),\n",
    "    center=dict(x=0, y=0, z=0),\n",
    "    eye=dict(x=0, y=0, z=4)\n",
    ")\n",
    "fig.update_scenes(camera_projection_type=\"orthographic\")\n",
    "fig.update_layout(scene_camera=camera)\n",
    "fig.show()\n",
    "\n"
   ]
  },
  {
   "cell_type": "markdown",
   "id": "ff6b7894",
   "metadata": {
    "id": "ff6b7894"
   },
   "source": [
    "## Visualize movement of the manipulator"
   ]
  },
  {
   "cell_type": "code",
   "execution_count": null,
   "id": "40040997",
   "metadata": {
    "colab": {
     "base_uri": "https://localhost:8080/"
    },
    "id": "40040997",
    "outputId": "ca71c732-4535-4726-d7c7-c8fcea23f6d4"
   },
   "outputs": [],
   "source": [
    "poses = [ fwd_kinematics_2rev(th1_, th2_) for th1_, th2_ in zip(th1, th2)]\n",
    "endeff_trajectory = np.array([ [x_, y_]  for x_, y_, th_, j_ in poses])\n",
    "joint_trajectory = np.array([ j_  for x_, y_, th_, j_ in poses])"
   ]
  },
  {
   "cell_type": "code",
   "execution_count": null,
   "id": "f558fe6b",
   "metadata": {
    "colab": {
     "base_uri": "https://localhost:8080/",
     "height": 617
    },
    "id": "f558fe6b",
    "outputId": "0f1b033e-3cc2-4b7f-f20e-982baa956864"
   },
   "outputs": [],
   "source": [
    "fig = go.Figure(\n",
    "    data=[go.Scatter(x=[0, joint_trajectory[0,0]], y=[0, joint_trajectory[0,1]], \n",
    "          name=\"First link\", mode=\"lines\",\n",
    "          line=dict(width=6, color=\"blue\")),\n",
    "          go.Scatter(x=[joint_trajectory[0,0], endeff_trajectory[0,0]], \n",
    "                     y=[joint_trajectory[0,1], endeff_trajectory[0,1]], \n",
    "          name=\"Second link\", mode=\"lines\",\n",
    "          line=dict(width=5, color=\"red\")),\n",
    "         go.Scatter(x=joint_trajectory[:,0], y=joint_trajectory[:,1], \n",
    "          name=\"Joint trajectory\", mode=\"lines\",\n",
    "          line=dict(width=1, color=\"lightblue\")),\n",
    "          go.Scatter(x=endeff_trajectory[:,0], y=endeff_trajectory[:,1], \n",
    "          name=\"End-point trajectory\", mode=\"lines\",\n",
    "          line=dict(width=1, color=\"red\"))],\n",
    "    layout=go.Layout( width=700, height=600,\n",
    "        xaxis=dict(range=[-4, 4], autorange=False),\n",
    "        yaxis=dict(range=[-4, 4], autorange=False),\n",
    "        title=\"End-effector trajectory\",\n",
    "        updatemenus=[dict(\n",
    "            type=\"buttons\",\n",
    "            buttons=[dict(label=\"Play\",\n",
    "                          method=\"animate\",\n",
    "                          args=[None])])]\n",
    "    ),\n",
    "    frames=[go.Frame(data=[go.Scatter(x=[0, xj_], y=[0, yj_]),\n",
    "                          go.Scatter(x=[xj_, xe_], y=[yj_, ye_])]) \n",
    "            for xj_, yj_, xe_, ye_ in np.hstack((joint_trajectory, endeff_trajectory))]\n",
    ")\n",
    "\n",
    "fig.show()"
   ]
  },
  {
   "cell_type": "code",
   "execution_count": null,
   "id": "2be1341a",
   "metadata": {
    "colab": {
     "base_uri": "https://localhost:8080/"
    },
    "id": "2be1341a",
    "outputId": "7bade7f7-5c7f-40c1-8117-ab4cf74e2dbd"
   },
   "outputs": [],
   "source": [
    "?px.scatter_3d"
   ]
  },
  {
   "cell_type": "code",
   "execution_count": null,
   "id": "d6d3db4d",
   "metadata": {
    "id": "d6d3db4d"
   },
   "outputs": [],
   "source": []
  },
  {
   "cell_type": "code",
   "execution_count": null,
   "id": "e5178489",
   "metadata": {},
   "outputs": [],
   "source": []
  }
 ],
 "metadata": {
  "colab": {
   "name": "robot-2dof.ipynb",
   "provenance": []
  },
  "kernelspec": {
   "display_name": "Python 3 (ipykernel)",
   "language": "python",
   "name": "python3"
  },
  "language_info": {
   "codemirror_mode": {
    "name": "ipython",
    "version": 3
   },
   "file_extension": ".py",
   "mimetype": "text/x-python",
   "name": "python",
   "nbconvert_exporter": "python",
   "pygments_lexer": "ipython3",
   "version": "3.8.11"
  }
 },
 "nbformat": 4,
 "nbformat_minor": 5
}
