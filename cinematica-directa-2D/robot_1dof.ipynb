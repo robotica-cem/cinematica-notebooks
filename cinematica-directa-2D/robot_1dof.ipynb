{
 "cells": [
  {
   "cell_type": "markdown",
   "id": "48f7c0b5",
   "metadata": {
    "id": "48f7c0b5"
   },
   "source": [
    "## Forward kinematics of a 1dof planar robot\n",
    "\n",
    "### Case 1) Tool frame directions aligned with base frame at reference configuration\n",
    "<img src=\"https://github.com/robotica-cem/cinematica-notebooks/blob/main/figures/2d-1dof-revolute.png?raw=true\" width=400 />"
   ]
  },
  {
   "cell_type": "code",
   "execution_count": 1,
   "id": "f3ab12a1",
   "metadata": {
    "id": "f3ab12a1"
   },
   "outputs": [],
   "source": [
    "import numpy as np\n",
    "import doctest"
   ]
  },
  {
   "cell_type": "code",
   "execution_count": 25,
   "id": "2d98a0d0",
   "metadata": {
    "id": "2d98a0d0"
   },
   "outputs": [],
   "source": [
    "def fwd_kinematics1(th1, l1=2):\n",
    "    '''\n",
    "    Implements the forward kinematics of a planar robot with one revolute joint. \n",
    "    \n",
    "    Arguments\n",
    "    ---------\n",
    "    th1    : float\n",
    "       Angle in radians.\n",
    "    l1     : float\n",
    "       Length of the link.\n",
    " \n",
    "    Returns\n",
    "    -------\n",
    "    x : float\n",
    "       The position in the global x-direction of the end-effector (tool point)\n",
    "    y : float\n",
    "       The position in the global y-direction of the end-effector (tool point)\n",
    "    theta : float\n",
    "       The orientation of the end-effector with respect to the positive global x-axis.\n",
    "       The angle returned is in the range [-np.pi, np.pi]\n",
    "    \n",
    "    Tests\n",
    "    ------\n",
    "    1) End-effector pose at reference position\n",
    "    >>> x, y, th = fwd_kinematics1(0)\n",
    "    >>> \"(%0.2f, %0.2f, %0.2f)\" %(x, y, th)\n",
    "    '(2.00, 0.00, 0.00)'\n",
    "    \n",
    "    2) End-effector pose at 90 degrees in joint\n",
    "    >>> x, y, th = fwd_kinematics1(np.pi/2)\n",
    "    >>> \"(%0.2f, %0.2f, %0.2f)\" %(x, y, th)\n",
    "    '(0.00, 2.00, 1.57)'\n",
    "    \n",
    "    3) Angle of end-effector should be in range [-pi, pi]\n",
    "    >>> x, y, th = fwd_kinematics1(3*np.pi/2)\n",
    "    >>> \"%0.2f\" %(th)\n",
    "    '-1.57'\n",
    "    \n",
    "    4) End-effector is always at constant distance from the origin\n",
    "    >>> poses = [fwd_kinematics1(th1_, 3)\n",
    "    ... for th1_ in np.arange(0, 2*np.pi, 0.2) ] \n",
    "    >>> distances = np.array([np.sqrt(x_**2 + y_**2) for x_, y_, th_ in poses])\n",
    "    >>> np.any(np.abs(distances - 3) > 1e-12)\n",
    "    False\n",
    "    \n",
    "    5) End-effector velocity vector at 45 degrees in angle, using finite difference, \n",
    "    link rotating at unit speed (1 rad/s)\n",
    "    >>> delta_angle = 1e-4\n",
    "    >>> th_1 = np.pi/4\n",
    "    >>> l_1 = 2.5\n",
    "    >>> x0, y0, th0 = fwd_kinematics1(th_1, l_1)\n",
    "    >>> x1, y1, th1 = fwd_kinematics1(th_1+delta_angle, l_1)\n",
    "    >>> vx = (x1-x0)/delta_angle\n",
    "    >>> vy = (y1-y0)/delta_angle\n",
    "    >>> vx_true = -l_1*np.sin(th_1)\n",
    "    >>> vy_true = l_1*np.cos(th_1)\n",
    "    >>> abs(vx-vx_true) < 1e-3\n",
    "    True\n",
    "    >>> abs(vy-vy_true) < 1e-3\n",
    "    True\n",
    "    \n",
    "    6 ) NOW IT IS YOUR TURN. WRITE A TEST THAT SHOULD PASS IF THE IMPLEMENTATION \n",
    "    IS CORRECT\n",
    "    >>> my_own_test\n",
    "    '''\n",
    "    x = 0\n",
    "    y = 0\n",
    "    theta = 0\n",
    "    \n",
    "    # make theta be in [-np.pi, np.pi]\n",
    "    if theta > np.pi:\n",
    "        theta -= 2*np.pi\n",
    "    elif theta < -np.pi:\n",
    "        theta += 2*np.pi\n",
    "        \n",
    "    return (x, y, theta)\n"
   ]
  },
  {
   "cell_type": "markdown",
   "id": "9e19cfd1",
   "metadata": {},
   "source": [
    "#### Run doctests\n",
    "If tests pass, no output is generated."
   ]
  },
  {
   "cell_type": "code",
   "execution_count": 26,
   "id": "7a7caeb9",
   "metadata": {},
   "outputs": [],
   "source": [
    "doctest.run_docstring_examples(fwd_kinematics1, globals())"
   ]
  },
  {
   "cell_type": "markdown",
   "id": "d43ad899",
   "metadata": {
    "id": "48f7c0b5"
   },
   "source": [
    "### Case 2) Tool frame rotated wrt base frame at reference configuration\n",
    "<img src=\"https://github.com/robotica-cem/cinematica-notebooks/blob/main/figures/2d-1dof-revolute-rotated-tool.png?raw=true\" width=400 />"
   ]
  },
  {
   "cell_type": "code",
   "execution_count": 1,
   "id": "a8dd2247",
   "metadata": {
    "id": "f3ab12a1"
   },
   "outputs": [],
   "source": [
    "import numpy as np\n",
    "import doctest"
   ]
  },
  {
   "cell_type": "code",
   "execution_count": 37,
   "id": "92fc8d25",
   "metadata": {
    "id": "2d98a0d0"
   },
   "outputs": [],
   "source": [
    "def fwd_kinematics2(th1, l1=2, le=0.5):\n",
    "    '''\n",
    "    Implements the forward kinematics of a planar robot with one revolute joint,\n",
    "    with tool-frame rotated with respect to the base frame. The tool frame is\n",
    "    rotated 90 degrees so that in the reference configuration, \n",
    "    the tool x-vector points in the direction of the base y-vector, and the\n",
    "    tool y-vector points in the opposite direction of the base x-vector. \n",
    "    \n",
    "    Arguments\n",
    "    ---------\n",
    "    th1    : float\n",
    "       Angle in radians.\n",
    "    l1     : float\n",
    "       Length of the link.\n",
    "    le      : Offset of the tool center point\n",
    "    Returns\n",
    "    -------\n",
    "    tcp : nd-array (x,y,z)\n",
    "       The position of the tool center point (the origin of the tool frame) \n",
    "       in the base frame.\n",
    "    theta : float\n",
    "       The orientation of the end-effector with respect to the positive global x-axis.\n",
    "       The angle returned is in the range [-np.pi, np.pi]\n",
    "    \n",
    "    Tests\n",
    "    ------\n",
    "    1) End-effector pose at reference position\n",
    "    >>> p, th = fwd_kinematics2(0)\n",
    "    >>> \"x=%0.2f, y=%0.2f, z=%0.2f, th=%0.2f\" %(p[0], p[1], p[2], th)\n",
    "    'x=2.00, y=0.50, z=0.00, th=1.57'\n",
    "    \n",
    "    2) End-effector pose at 60 degrees in joint\n",
    "    >>> p, th = fwd_kinematics2(np.pi/3)\n",
    "    >>> \"x=%0.2f, y=%0.2f, z=%0.2f, th=%0.2f\" %(p[0], p[1], p[2], th)\n",
    "    'x=0.57, y=1.98, z=0.00, th=2.62'\n",
    "    \n",
    "    3) Angle of end-effector should be in range [-pi, pi]\n",
    "    >>> p, th = fwd_kinematics2(3*np.pi/2)\n",
    "    >>> \"%0.2f\" %(np.abs(th))\n",
    "    '0.00'\n",
    "    \n",
    "    4) End-effector is always at constant distance from the origin\n",
    "    >>> poses = [fwd_kinematics2(th1_, l1=3, le=1)\n",
    "    ... for th1_ in np.arange(0, 2*np.pi, 0.2) ] \n",
    "    >>> distances = np.array([np.sqrt(p_[0]**2 + p_[1]**2) for p_, th_ in poses])\n",
    "    >>> np.any(np.abs(distances - np.sqrt(10)) > 1e-12)\n",
    "    False\n",
    "    '''\n",
    "    \n",
    "    tcp0 = np.array([l1, le, 0]) # TCP in base frame at ref config\n",
    "    R = np.eye(3)\n",
    "    \n",
    "    tcp = np.dot(R, tcp0)\n",
    "    theta = 0\n",
    "    \n",
    "    return (tcp, theta)\n"
   ]
  },
  {
   "cell_type": "markdown",
   "id": "cddbd9f0",
   "metadata": {},
   "source": [
    "#### Run doctests\n",
    "If tests pass, no output is generated."
   ]
  },
  {
   "cell_type": "code",
   "execution_count": 38,
   "id": "2ffd982f",
   "metadata": {},
   "outputs": [],
   "source": [
    "doctest.run_docstring_examples(fwd_kinematics2, globals())"
   ]
  },
  {
   "cell_type": "markdown",
   "id": "4a3662b3",
   "metadata": {
    "id": "48f7c0b5"
   },
   "source": [
    "# The spatial and body Jacobians\n",
    "Consider the case 1) above\n",
    "<img src=\"https://github.com/robotica-cem/cinematica-notebooks/blob/main/figures/2d-1dof-revolute.png?raw=true\" width=400 />\n",
    "The forward kinematics map $$^Sp = f(\\theta)$$ gives the position of the tcp in the spatial frame as a function of the angle $\\theta$. This was solved above. We are also interested in the orientation of the tool, of course. The rotation matrix that expresses the orientation of the tool frame w.r.t. the spatial frame evidently also depends on the angle $\\theta$. We write it $R_{ts}(\\theta)$. The subscript $ts$ indicates that it will operate on vectors expressed in the spatial frame, and return that vector expressed in the tool frame. For instance, the spatial x-vector $$ ^Sx_S = \\begin{bmatrix}1\\\\0\\\\0\\end{bmatrix}$$ is in the tool frame given by \n",
    "$$ ^Bx_S = R_{ts}(\\theta)\\,^Sx_S = R_{ts}(\\theta)\\, \\begin{bmatrix}1\\\\0\\\\0\\end{bmatrix}, $$\n",
    "which is the first column of $R_{ts}(\\theta)$. \n",
    "\n",
    "We can find the velocity of the tcp by using the chain rule\n",
    "$$^S v = \\frac{d}{dt} ^Sp = \\underbrace{\\frac{d}{d\\theta} f(\\theta)}_{J_s} \\frac{d}{dt}\\theta, $$\n",
    "where $$J_s(\\theta) = \\frac{d}{d\\theta}f(\\theta)$$ is referred to as the *spatial Jacobian*. Multiplying the spatial jacobian with the angular velocity gives us the velocity of the TCP in the static, spatial frame. \n",
    "\n",
    "Often it is also of interest to know the velocity of the TCP (with respect to the spatial frame), expressed in the tool frame itself. This can be found by noting that\n",
    "$$ ^Tv = R_{ts}(\\theta) ^Sv = \\underbrace{R_{ts}(\\theta)\\frac{d}{d\\theta}f(\\theta)}_{J_b} \\frac{d}{dt}\\theta, $$\n",
    "where $$J_b(\\theta) = R_{ts}(\\theta)\\frac{d}{d\\theta}f(\\theta)$$ is referred to as the *body Jacobian*.\n"
   ]
  },
  {
   "cell_type": "code",
   "execution_count": 1,
   "id": "ffa377d7",
   "metadata": {
    "id": "f3ab12a1"
   },
   "outputs": [],
   "source": [
    "import numpy as np\n",
    "import doctest"
   ]
  },
  {
   "cell_type": "code",
   "execution_count": 77,
   "id": "fd6e0d2b",
   "metadata": {
    "id": "2d98a0d0"
   },
   "outputs": [],
   "source": [
    "def fwd_kinematics3(th1, l1=2):\n",
    "    '''\n",
    "    Implements the forward kinematics of a planar robot with one revolute joint,\n",
    "    where the tool frame is aligned with the spatial frame at the reference configuration.\n",
    "    \n",
    "    Arguments\n",
    "    ---------\n",
    "    th1    : float\n",
    "       Angle in radians.\n",
    "    l1     : float\n",
    "       Length of the link.\n",
    "    \n",
    "    Returns\n",
    "    -------\n",
    "    tcp : nd-array (x,y,z)\n",
    "       The position of the tool center point (the origin of the tool frame) \n",
    "       in the base frame.\n",
    "    theta : float\n",
    "       The orientation of the end-effector with respect to the positive global x-axis.\n",
    "       The angle returned is in the range [-np.pi, np.pi]\n",
    "    R_ts  : nd-array (3x3)\n",
    "       The rotation matrix\n",
    "    J_s   : nd-array (3)\n",
    "       The spatial jacobian\n",
    "    \n",
    "    Tests\n",
    "    ------\n",
    "    1) At reference position\n",
    "    >>> l1 = 2.5\n",
    "    >>> p, th, R, J = fwd_kinematics3(0, l1)\n",
    "    >>> \"x=%0.2f, y=%0.2f, z=%0.2f, th=%0.2f\" %(p[0], p[1], p[2], th)\n",
    "    'x=2.50, y=0.00, z=0.00, th=0.00'\n",
    "    >>> np.any(np.abs(R - np.eye(3)) > 1e-12) # Rotation is identity\n",
    "    False\n",
    "    >>> np.any(np.abs(J - np.array([0., l1, 0. ])) > 1e-12) # Spatial vel upwards\n",
    "    False\n",
    "    \n",
    "    2) At 90 degrees in joint\n",
    "    >>> l1 = 2.5\n",
    "    >>> p, th, R, J = fwd_kinematics3(np.pi/2, l1)\n",
    "    >>> \"x=%0.2f, y=%0.2f, z=%0.2f, th=%0.2f\" %(p[0], p[1], p[2], th)\n",
    "    'x=0.00, y=2.50, z=0.00, th=1.57'\n",
    "    >>> np.any(np.abs(R - np.array([[0, 1.0, 0],[-1.0, 0, 0], [0,0,1]]))> 1e-12) # Rotation\n",
    "    False\n",
    "    >>> np.any(np.abs(J - np.array([-l1, 0., 0. ])) > 1e-12) # Spatial vel left\n",
    "    False\n",
    "    \n",
    "    3) Compare spatial velocity with finite difference\n",
    "    >>> l1 = 2.5\n",
    "    >>> speed = 1.5 # rad/s\n",
    "    >>> dt = 1e-8\n",
    "    >>> delta_angle = speed*dt\n",
    "    >>> p0, th0, R0, J0 = fwd_kinematics3(np.pi/3, l1)\n",
    "    >>> p1, th1, R1, J1 = fwd_kinematics3(np.pi/3+delta_angle, l1)\n",
    "    >>> v = (p1-p0)/dt\n",
    "    >>> v0 = J0*speed\n",
    "    >>> np.any(np.abs(v-v0) > 1e-6)\n",
    "    False\n",
    "    '''\n",
    "    \n",
    "    tcp0 = np.array([l1, 0, 0]) # TCP in base frame at ref config\n",
    "    \n",
    "    return (tcp, theta, Rts, Js)\n"
   ]
  },
  {
   "cell_type": "markdown",
   "id": "dd6023e3",
   "metadata": {},
   "source": [
    "### Run doctests\n",
    "If tests pass, no output is generated."
   ]
  },
  {
   "cell_type": "code",
   "execution_count": 78,
   "id": "316bae64",
   "metadata": {},
   "outputs": [],
   "source": [
    "doctest.run_docstring_examples(fwd_kinematics3, globals())"
   ]
  },
  {
   "cell_type": "code",
   "execution_count": null,
   "id": "9b1823c8",
   "metadata": {},
   "outputs": [],
   "source": []
  }
 ],
 "metadata": {
  "colab": {
   "name": "robot-2dof.ipynb",
   "provenance": []
  },
  "kernelspec": {
   "display_name": "Python 3 (ipykernel)",
   "language": "python",
   "name": "python3"
  },
  "language_info": {
   "codemirror_mode": {
    "name": "ipython",
    "version": 3
   },
   "file_extension": ".py",
   "mimetype": "text/x-python",
   "name": "python",
   "nbconvert_exporter": "python",
   "pygments_lexer": "ipython3",
   "version": "3.8.11"
  }
 },
 "nbformat": 4,
 "nbformat_minor": 5
}
