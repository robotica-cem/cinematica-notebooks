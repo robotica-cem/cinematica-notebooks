{
 "cells": [
  {
   "cell_type": "markdown",
   "id": "87b7d2bf",
   "metadata": {},
   "source": [
    "# Modeling the scara robot\n",
    "Using the Denavit-hartenberg convention and the Kinematics and Dynamics Library. For documentation on kdl see\n",
    "\n",
    "https://www.orocos.org/kdl/user-manual\n",
    "\n",
    "and\n",
    "\n",
    "http://docs.ros.org/en/indigo/api/orocos_kdl/html/\n",
    "\n",
    "<img src=\"https://global.yamaha-motor.com/business/robot/lineup/ykxg/large/img/index/img_l.jpg\" width=500 />\n",
    "(Source: yamaha-motor.com)"
   ]
  },
  {
   "cell_type": "markdown",
   "id": "86d16485",
   "metadata": {},
   "source": [
    "### Preliminary: Install kdl on google colab\n",
    "Skip the next cell if you are running this notebook on a system that already has kdl installed."
   ]
  },
  {
   "cell_type": "code",
   "execution_count": null,
   "id": "44d187e2",
   "metadata": {},
   "outputs": [],
   "source": [
    "!git clone https://github.com/orocos/orocos_kinematics_dynamics.git\n",
    "!apt install libeigen3-dev libcppunit-dev # Without sudo on colab\n",
    "!mkdir orocos_kinematics_dynamics/orocos_kdl/build\n",
    "%cd orocos_kinematics_dynamics/orocos_kdl/build\n",
    "!cmake ..\n",
    "!make\n",
    "!make install\n",
    "%cd ../../python_orocos_kdl\n",
    "!git submodule update --init\n",
    "!mkdir build\n",
    "%cd build\n",
    "!cmake ..\n",
    "!make\n",
    "!make install\n",
    "!export LD_LIBRARY_PATH=$LD_LIBRARY_PATH:/usr/local/lib\n",
    "!ldconfig\n",
    "!python3 ../tests/PyKDLtest.py"
   ]
  },
  {
   "cell_type": "code",
   "execution_count": null,
   "id": "4bba7f1c",
   "metadata": {},
   "outputs": [],
   "source": [
    "import numpy as np\n",
    "import PyKDL as kdl\n",
    "import doctest"
   ]
  },
  {
   "cell_type": "code",
   "execution_count": null,
   "id": "ccd7ada8",
   "metadata": {},
   "outputs": [],
   "source": [
    "class Scara:\n",
    "    '''\n",
    "    Defines a scara robot of 4dof.\n",
    "    '''\n",
    "    def __init__(self, l0=1, l1=1, l2=1):\n",
    "        '''\n",
    "        Arguments\n",
    "        ---------\n",
    "        l0 : float\n",
    "           Height of the base\n",
    "        l1, l2 : float\n",
    "           Lengths of link 1 and 2, respectively\n",
    "\n",
    "        Returns\n",
    "        -------\n",
    "        sc : kdl.Chain\n",
    "           Representation of the robot as a chain of segments \n",
    "        '''\n",
    "        # D-H table\n",
    "        # Name  type   a   alpha  d  theta \n",
    "        dh_table = [ ('link1', kdl.Joint.RotZ, l1, 0, l0, 0),\n",
    "                    ('link2', , , , , ),\n",
    "                    ('link3', , , , , ),\n",
    "                    ('tool', , , , , )]\n",
    "\n",
    "        self.chain = kdl.Chain()\n",
    "\n",
    "        for name, jtype, a, alpha, d, theta in dh_table:\n",
    "            self.chain.addSegment(kdl.Segment(name=name,\n",
    "                                     joint=kdl.Joint(type=jtype),\n",
    "                                     f_tip=kdl.Frame.DH(a, alpha, d, theta)))\n",
    "        \n",
    "        self.fksolver = kdl.ChainFkSolverPos_recursive(self.chain)\n",
    "        \n",
    "    def fk(self, jc):\n",
    "        '''\n",
    "        Arguments\n",
    "        ---------\n",
    "        jc : array-like\n",
    "           The joint coordinates (angles)\n",
    "           \n",
    "        Returns\n",
    "        -------\n",
    "        Te : The frame of the end effector\n",
    "        \n",
    "        Tests\n",
    "        -----\n",
    "        Define robot. Check forward kinematics\n",
    "        >>> sc = Scara()\n",
    "        >>> # 1) In reference configuration\n",
    "        >>> tcp0w = kdl.Vector(2,0,1) # In the world frame\n",
    "        >>> tcp0 = kdl.Vector(0, 0, 0) # In the end-effector frame\n",
    "        >>> tcp = sc.fk([0,0,0,0])*tcp0\n",
    "        >>> print(\"TCP: x=%0.2f, y=%0.2f, z=%0.2f\" %(tcp.x(), tcp.y(), tcp.z()))\n",
    "        TCP: x=2.00, y=0.00, z=1.00\n",
    "        >>> # 2) Rotate first two joints 90 degrees\n",
    "        >>> tcp = sc.fk([np.pi/2, np.pi/2, 0, 0])*tcp0\n",
    "        >>> print(\"TCP: x=%0.2f, y=%0.2f, z=%0.2f\" %(tcp.x(), tcp.y(), tcp.z()))\n",
    "        TCP: x=-1.00, y=1.00, z=1.00\n",
    "        >>> # 3) Rotate third joint -90 degrees extend last joint 0.5\n",
    "        >>> Te = sc.fk([0, 0, np.pi/2, 0.5])\n",
    "        >>> tcp = Te*tcp0\n",
    "        >>> print(\"TCP: x=%0.2f, y=%0.2f, z=%0.2f\" %(tcp.x(), tcp.y(), tcp.z()))\n",
    "        TCP: x=2.00, y=-0.00, z=0.50\n",
    "        >>> x_e = kdl.Vector(0.5, 0, 0)\n",
    "        >>> x_s = Te*x_e\n",
    "        >>> print(\"x=%0.2f, y=%0.2f, z=%0.2f\" %(x_s.x(), x_s.y(), x_s.z()))\n",
    "        x=2.00, y=0.50, z=0.50\n",
    "        \n",
    "        '''\n",
    "        \n",
    "        q = kdl.JntArray(4)\n",
    "        for i in range(4):\n",
    "            q[i] = jc[i]\n",
    "        ee_frame = kdl.Frame()\n",
    "        self.fksolver.JntToCart(q, ee_frame)\n",
    "        return ee_frame\n",
    "     "
   ]
  },
  {
   "cell_type": "code",
   "execution_count": null,
   "id": "291efcd0",
   "metadata": {},
   "outputs": [],
   "source": [
    "doctest.run_docstring_examples(Scara.fk, globals(), verbose=True)"
   ]
  }
 ],
 "metadata": {
  "kernelspec": {
   "display_name": "Python 3 (ipykernel)",
   "language": "python",
   "name": "python3"
  },
  "language_info": {
   "codemirror_mode": {
    "name": "ipython",
    "version": 3
   },
   "file_extension": ".py",
   "mimetype": "text/x-python",
   "name": "python",
   "nbconvert_exporter": "python",
   "pygments_lexer": "ipython3",
   "version": "3.8.11"
  }
 },
 "nbformat": 4,
 "nbformat_minor": 5
}
